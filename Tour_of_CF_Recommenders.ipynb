{
  "nbformat": 4,
  "nbformat_minor": 0,
  "metadata": {
    "colab": {
      "name": "Copy of Recommenders.ipynb",
      "provenance": []
    },
    "kernelspec": {
      "name": "python3",
      "display_name": "Python 3"
    },
    "language_info": {
      "name": "python"
    }
  },
  "cells": [
    {
      "cell_type": "code",
      "metadata": {
        "id": "MCcMw3Hb3I2d",
        "colab": {
          "base_uri": "https://localhost:8080/"
        },
        "outputId": "40fd53d1-4cfb-4cb6-9056-c8439bbb4b5d"
      },
      "source": [
        "import pandas as pd\n",
        "import zipfile\n",
        "!pip install scikit-surprise\n",
        "\n",
        "from surprise import Dataset, Reader\n",
        "from surprise.model_selection import cross_validate\n",
        "from surprise.model_selection import GridSearchCV\n",
        "from surprise import KNNBasic, KNNWithMeans, KNNWithZScore\n",
        "from surprise import SVD, SVDpp, NMF\n",
        "from surprise import SlopeOne, CoClustering\n",
        "\n",
        "import matplotlib.pyplot as plt\n",
        "%matplotlib inline"
      ],
      "execution_count": 1,
      "outputs": [
        {
          "output_type": "stream",
          "text": [
            "Collecting scikit-surprise\n",
            "\u001b[?25l  Downloading https://files.pythonhosted.org/packages/97/37/5d334adaf5ddd65da99fc65f6507e0e4599d092ba048f4302fe8775619e8/scikit-surprise-1.1.1.tar.gz (11.8MB)\n",
            "\u001b[K     |████████████████████████████████| 11.8MB 327kB/s \n",
            "\u001b[?25hRequirement already satisfied: joblib>=0.11 in /usr/local/lib/python3.7/dist-packages (from scikit-surprise) (1.0.1)\n",
            "Requirement already satisfied: numpy>=1.11.2 in /usr/local/lib/python3.7/dist-packages (from scikit-surprise) (1.19.5)\n",
            "Requirement already satisfied: scipy>=1.0.0 in /usr/local/lib/python3.7/dist-packages (from scikit-surprise) (1.4.1)\n",
            "Requirement already satisfied: six>=1.10.0 in /usr/local/lib/python3.7/dist-packages (from scikit-surprise) (1.15.0)\n",
            "Building wheels for collected packages: scikit-surprise\n",
            "  Building wheel for scikit-surprise (setup.py) ... \u001b[?25l\u001b[?25hdone\n",
            "  Created wheel for scikit-surprise: filename=scikit_surprise-1.1.1-cp37-cp37m-linux_x86_64.whl size=1617609 sha256=cde01173c752754ab03144eda17b610ec3573e80d49bec72ee4a11f6bc509632\n",
            "  Stored in directory: /root/.cache/pip/wheels/78/9c/3d/41b419c9d2aff5b6e2b4c0fc8d25c538202834058f9ed110d0\n",
            "Successfully built scikit-surprise\n",
            "Installing collected packages: scikit-surprise\n",
            "Successfully installed scikit-surprise-1.1.1\n"
          ],
          "name": "stdout"
        }
      ]
    },
    {
      "cell_type": "code",
      "metadata": {
        "colab": {
          "base_uri": "https://localhost:8080/"
        },
        "id": "zYMNhrzHb2BD",
        "outputId": "1d124048-a6d3-4f08-a603-c372aea9dac4"
      },
      "source": [
        "!wget https://github.com/bonehead/product_recommendations_case/blob/main/train.zip?raw=true\n",
        "!wget https://raw.githubusercontent.com/bonehead/product_recommendations_case/main/submission.csv\n",
        "!mv train.zip?raw=true train.zip\n",
        "file_to_extract='train.csv'\n",
        "with zipfile.ZipFile(\"train.zip\") as z:\n",
        "  with open(file_to_extract, 'wb') as f:\n",
        "    f.write(z.read(file_to_extract))\n",
        "    print(\"Extracted\", file_to_extract)"
      ],
      "execution_count": 2,
      "outputs": [
        {
          "output_type": "stream",
          "text": [
            "--2021-05-30 13:54:53--  https://github.com/bonehead/product_recommendations_case/blob/main/train.zip?raw=true\n",
            "Resolving github.com (github.com)... 140.82.114.4\n",
            "Connecting to github.com (github.com)|140.82.114.4|:443... connected.\n",
            "HTTP request sent, awaiting response... 302 Found\n",
            "Location: https://github.com/bonehead/product_recommendations_case/raw/main/train.zip [following]\n",
            "--2021-05-30 13:54:53--  https://github.com/bonehead/product_recommendations_case/raw/main/train.zip\n",
            "Reusing existing connection to github.com:443.\n",
            "HTTP request sent, awaiting response... 302 Found\n",
            "Location: https://raw.githubusercontent.com/bonehead/product_recommendations_case/main/train.zip [following]\n",
            "--2021-05-30 13:54:54--  https://raw.githubusercontent.com/bonehead/product_recommendations_case/main/train.zip\n",
            "Resolving raw.githubusercontent.com (raw.githubusercontent.com)... 185.199.108.133, 185.199.109.133, 185.199.110.133, ...\n",
            "Connecting to raw.githubusercontent.com (raw.githubusercontent.com)|185.199.108.133|:443... connected.\n",
            "HTTP request sent, awaiting response... 200 OK\n",
            "Length: 4874087 (4.6M) [application/zip]\n",
            "Saving to: ‘train.zip?raw=true’\n",
            "\n",
            "train.zip?raw=true  100%[===================>]   4.65M  27.9MB/s    in 0.2s    \n",
            "\n",
            "2021-05-30 13:54:54 (27.9 MB/s) - ‘train.zip?raw=true’ saved [4874087/4874087]\n",
            "\n",
            "--2021-05-30 13:54:54--  https://raw.githubusercontent.com/bonehead/product_recommendations_case/main/submission.csv\n",
            "Resolving raw.githubusercontent.com (raw.githubusercontent.com)... 185.199.108.133, 185.199.109.133, 185.199.110.133, ...\n",
            "Connecting to raw.githubusercontent.com (raw.githubusercontent.com)|185.199.108.133|:443... connected.\n",
            "HTTP request sent, awaiting response... 200 OK\n",
            "Length: 58944 (58K) [text/plain]\n",
            "Saving to: ‘submission.csv’\n",
            "\n",
            "submission.csv      100%[===================>]  57.56K  --.-KB/s    in 0.01s   \n",
            "\n",
            "2021-05-30 13:54:54 (5.44 MB/s) - ‘submission.csv’ saved [58944/58944]\n",
            "\n",
            "Extracted train.csv\n"
          ],
          "name": "stdout"
        }
      ]
    },
    {
      "cell_type": "code",
      "metadata": {
        "colab": {
          "base_uri": "https://localhost:8080/",
          "height": 195
        },
        "id": "REGHdbp04Ma2",
        "outputId": "f29db0b8-b126-4a99-ae61-92c06661da70"
      },
      "source": [
        "txns=pd.read_csv(\"train.csv\",parse_dates=[\"InvoiceDate\"])\n",
        "txns.head()"
      ],
      "execution_count": 3,
      "outputs": [
        {
          "output_type": "execute_result",
          "data": {
            "text/html": [
              "<div>\n",
              "<style scoped>\n",
              "    .dataframe tbody tr th:only-of-type {\n",
              "        vertical-align: middle;\n",
              "    }\n",
              "\n",
              "    .dataframe tbody tr th {\n",
              "        vertical-align: top;\n",
              "    }\n",
              "\n",
              "    .dataframe thead th {\n",
              "        text-align: right;\n",
              "    }\n",
              "</style>\n",
              "<table border=\"1\" class=\"dataframe\">\n",
              "  <thead>\n",
              "    <tr style=\"text-align: right;\">\n",
              "      <th></th>\n",
              "      <th>transaction_id</th>\n",
              "      <th>item_id</th>\n",
              "      <th>item_qty</th>\n",
              "      <th>InvoiceDate</th>\n",
              "      <th>item_amt</th>\n",
              "      <th>customer_id</th>\n",
              "    </tr>\n",
              "  </thead>\n",
              "  <tbody>\n",
              "    <tr>\n",
              "      <th>0</th>\n",
              "      <td>536365</td>\n",
              "      <td>85123A</td>\n",
              "      <td>6</td>\n",
              "      <td>2010-12-01 08:26:00</td>\n",
              "      <td>2.55</td>\n",
              "      <td>17850.0</td>\n",
              "    </tr>\n",
              "    <tr>\n",
              "      <th>1</th>\n",
              "      <td>536365</td>\n",
              "      <td>71053</td>\n",
              "      <td>6</td>\n",
              "      <td>2010-12-01 08:26:00</td>\n",
              "      <td>3.39</td>\n",
              "      <td>17850.0</td>\n",
              "    </tr>\n",
              "    <tr>\n",
              "      <th>2</th>\n",
              "      <td>536365</td>\n",
              "      <td>84406B</td>\n",
              "      <td>8</td>\n",
              "      <td>2010-12-01 08:26:00</td>\n",
              "      <td>2.75</td>\n",
              "      <td>17850.0</td>\n",
              "    </tr>\n",
              "    <tr>\n",
              "      <th>3</th>\n",
              "      <td>536365</td>\n",
              "      <td>84029G</td>\n",
              "      <td>6</td>\n",
              "      <td>2010-12-01 08:26:00</td>\n",
              "      <td>3.39</td>\n",
              "      <td>17850.0</td>\n",
              "    </tr>\n",
              "    <tr>\n",
              "      <th>4</th>\n",
              "      <td>536365</td>\n",
              "      <td>84029E</td>\n",
              "      <td>6</td>\n",
              "      <td>2010-12-01 08:26:00</td>\n",
              "      <td>3.39</td>\n",
              "      <td>17850.0</td>\n",
              "    </tr>\n",
              "  </tbody>\n",
              "</table>\n",
              "</div>"
            ],
            "text/plain": [
              "  transaction_id item_id  item_qty         InvoiceDate  item_amt  customer_id\n",
              "0         536365  85123A         6 2010-12-01 08:26:00      2.55      17850.0\n",
              "1         536365   71053         6 2010-12-01 08:26:00      3.39      17850.0\n",
              "2         536365  84406B         8 2010-12-01 08:26:00      2.75      17850.0\n",
              "3         536365  84029G         6 2010-12-01 08:26:00      3.39      17850.0\n",
              "4         536365  84029E         6 2010-12-01 08:26:00      3.39      17850.0"
            ]
          },
          "metadata": {
            "tags": []
          },
          "execution_count": 3
        }
      ]
    },
    {
      "cell_type": "code",
      "metadata": {
        "id": "atXxKNcCDprd",
        "outputId": "7ef3be17-b1e3-4859-d404-7e22f3e55e96",
        "colab": {
          "base_uri": "https://localhost:8080/",
          "height": 195
        }
      },
      "source": [
        "txns[\"customer_id\"]=txns[\"customer_id\"].apply(str)\n",
        "txns.head()"
      ],
      "execution_count": 78,
      "outputs": [
        {
          "output_type": "execute_result",
          "data": {
            "text/html": [
              "<div>\n",
              "<style scoped>\n",
              "    .dataframe tbody tr th:only-of-type {\n",
              "        vertical-align: middle;\n",
              "    }\n",
              "\n",
              "    .dataframe tbody tr th {\n",
              "        vertical-align: top;\n",
              "    }\n",
              "\n",
              "    .dataframe thead th {\n",
              "        text-align: right;\n",
              "    }\n",
              "</style>\n",
              "<table border=\"1\" class=\"dataframe\">\n",
              "  <thead>\n",
              "    <tr style=\"text-align: right;\">\n",
              "      <th></th>\n",
              "      <th>transaction_id</th>\n",
              "      <th>item_id</th>\n",
              "      <th>item_qty</th>\n",
              "      <th>InvoiceDate</th>\n",
              "      <th>item_amt</th>\n",
              "      <th>customer_id</th>\n",
              "    </tr>\n",
              "  </thead>\n",
              "  <tbody>\n",
              "    <tr>\n",
              "      <th>0</th>\n",
              "      <td>536365</td>\n",
              "      <td>85123A</td>\n",
              "      <td>6</td>\n",
              "      <td>2010-12-01 08:26:00</td>\n",
              "      <td>2.55</td>\n",
              "      <td>17850.0</td>\n",
              "    </tr>\n",
              "    <tr>\n",
              "      <th>1</th>\n",
              "      <td>536365</td>\n",
              "      <td>71053</td>\n",
              "      <td>6</td>\n",
              "      <td>2010-12-01 08:26:00</td>\n",
              "      <td>3.39</td>\n",
              "      <td>17850.0</td>\n",
              "    </tr>\n",
              "    <tr>\n",
              "      <th>2</th>\n",
              "      <td>536365</td>\n",
              "      <td>84406B</td>\n",
              "      <td>8</td>\n",
              "      <td>2010-12-01 08:26:00</td>\n",
              "      <td>2.75</td>\n",
              "      <td>17850.0</td>\n",
              "    </tr>\n",
              "    <tr>\n",
              "      <th>3</th>\n",
              "      <td>536365</td>\n",
              "      <td>84029G</td>\n",
              "      <td>6</td>\n",
              "      <td>2010-12-01 08:26:00</td>\n",
              "      <td>3.39</td>\n",
              "      <td>17850.0</td>\n",
              "    </tr>\n",
              "    <tr>\n",
              "      <th>4</th>\n",
              "      <td>536365</td>\n",
              "      <td>84029E</td>\n",
              "      <td>6</td>\n",
              "      <td>2010-12-01 08:26:00</td>\n",
              "      <td>3.39</td>\n",
              "      <td>17850.0</td>\n",
              "    </tr>\n",
              "  </tbody>\n",
              "</table>\n",
              "</div>"
            ],
            "text/plain": [
              "  transaction_id item_id  item_qty         InvoiceDate  item_amt customer_id\n",
              "0         536365  85123A         6 2010-12-01 08:26:00      2.55     17850.0\n",
              "1         536365   71053         6 2010-12-01 08:26:00      3.39     17850.0\n",
              "2         536365  84406B         8 2010-12-01 08:26:00      2.75     17850.0\n",
              "3         536365  84029G         6 2010-12-01 08:26:00      3.39     17850.0\n",
              "4         536365  84029E         6 2010-12-01 08:26:00      3.39     17850.0"
            ]
          },
          "metadata": {
            "tags": []
          },
          "execution_count": 78
        }
      ]
    },
    {
      "cell_type": "code",
      "metadata": {
        "colab": {
          "base_uri": "https://localhost:8080/",
          "height": 215
        },
        "id": "mkr0pqkkj2nW",
        "outputId": "47e84402-9194-45d8-8354-8ff81d7e6e0c"
      },
      "source": [
        "submission=pd.read_csv(\"submission.csv\")\n",
        "submission.head()"
      ],
      "execution_count": 79,
      "outputs": [
        {
          "output_type": "execute_result",
          "data": {
            "text/html": [
              "<div>\n",
              "<style scoped>\n",
              "    .dataframe tbody tr th:only-of-type {\n",
              "        vertical-align: middle;\n",
              "    }\n",
              "\n",
              "    .dataframe tbody tr th {\n",
              "        vertical-align: top;\n",
              "    }\n",
              "\n",
              "    .dataframe thead th {\n",
              "        text-align: right;\n",
              "    }\n",
              "</style>\n",
              "<table border=\"1\" class=\"dataframe\">\n",
              "  <thead>\n",
              "    <tr style=\"text-align: right;\">\n",
              "      <th></th>\n",
              "      <th>customer_id</th>\n",
              "      <th>Target_20724</th>\n",
              "      <th>Target_20725</th>\n",
              "      <th>Target_20726</th>\n",
              "      <th>Target_20727</th>\n",
              "      <th>Target_20728</th>\n",
              "      <th>Target_20914</th>\n",
              "      <th>Target_21080</th>\n",
              "      <th>Target_21212</th>\n",
              "      <th>Target_21232</th>\n",
              "      <th>Target_21754</th>\n",
              "      <th>Target_21790</th>\n",
              "      <th>Target_21931</th>\n",
              "      <th>Target_21977</th>\n",
              "      <th>Target_22178</th>\n",
              "      <th>Target_22197</th>\n",
              "      <th>Target_22355</th>\n",
              "      <th>Target_84879</th>\n",
              "      <th>Target_84991</th>\n",
              "      <th>Target_85099B</th>\n",
              "      <th>Target_85099C</th>\n",
              "      <th>Target_85123A</th>\n",
              "    </tr>\n",
              "  </thead>\n",
              "  <tbody>\n",
              "    <tr>\n",
              "      <th>0</th>\n",
              "      <td>12347</td>\n",
              "      <td>0</td>\n",
              "      <td>0</td>\n",
              "      <td>0</td>\n",
              "      <td>0</td>\n",
              "      <td>0</td>\n",
              "      <td>0</td>\n",
              "      <td>0</td>\n",
              "      <td>0</td>\n",
              "      <td>0</td>\n",
              "      <td>0</td>\n",
              "      <td>0</td>\n",
              "      <td>0</td>\n",
              "      <td>0</td>\n",
              "      <td>0</td>\n",
              "      <td>0</td>\n",
              "      <td>0</td>\n",
              "      <td>0</td>\n",
              "      <td>0</td>\n",
              "      <td>0</td>\n",
              "      <td>0</td>\n",
              "      <td>0</td>\n",
              "    </tr>\n",
              "    <tr>\n",
              "      <th>1</th>\n",
              "      <td>12349</td>\n",
              "      <td>0</td>\n",
              "      <td>0</td>\n",
              "      <td>0</td>\n",
              "      <td>0</td>\n",
              "      <td>0</td>\n",
              "      <td>0</td>\n",
              "      <td>0</td>\n",
              "      <td>0</td>\n",
              "      <td>0</td>\n",
              "      <td>0</td>\n",
              "      <td>0</td>\n",
              "      <td>0</td>\n",
              "      <td>0</td>\n",
              "      <td>0</td>\n",
              "      <td>0</td>\n",
              "      <td>0</td>\n",
              "      <td>0</td>\n",
              "      <td>0</td>\n",
              "      <td>0</td>\n",
              "      <td>0</td>\n",
              "      <td>0</td>\n",
              "    </tr>\n",
              "    <tr>\n",
              "      <th>2</th>\n",
              "      <td>12352</td>\n",
              "      <td>0</td>\n",
              "      <td>0</td>\n",
              "      <td>0</td>\n",
              "      <td>0</td>\n",
              "      <td>0</td>\n",
              "      <td>0</td>\n",
              "      <td>0</td>\n",
              "      <td>0</td>\n",
              "      <td>0</td>\n",
              "      <td>0</td>\n",
              "      <td>0</td>\n",
              "      <td>0</td>\n",
              "      <td>0</td>\n",
              "      <td>0</td>\n",
              "      <td>0</td>\n",
              "      <td>0</td>\n",
              "      <td>0</td>\n",
              "      <td>0</td>\n",
              "      <td>0</td>\n",
              "      <td>0</td>\n",
              "      <td>0</td>\n",
              "    </tr>\n",
              "    <tr>\n",
              "      <th>3</th>\n",
              "      <td>12357</td>\n",
              "      <td>0</td>\n",
              "      <td>0</td>\n",
              "      <td>0</td>\n",
              "      <td>0</td>\n",
              "      <td>0</td>\n",
              "      <td>0</td>\n",
              "      <td>0</td>\n",
              "      <td>0</td>\n",
              "      <td>0</td>\n",
              "      <td>0</td>\n",
              "      <td>0</td>\n",
              "      <td>0</td>\n",
              "      <td>0</td>\n",
              "      <td>0</td>\n",
              "      <td>0</td>\n",
              "      <td>0</td>\n",
              "      <td>0</td>\n",
              "      <td>0</td>\n",
              "      <td>0</td>\n",
              "      <td>0</td>\n",
              "      <td>0</td>\n",
              "    </tr>\n",
              "    <tr>\n",
              "      <th>4</th>\n",
              "      <td>12359</td>\n",
              "      <td>0</td>\n",
              "      <td>0</td>\n",
              "      <td>0</td>\n",
              "      <td>0</td>\n",
              "      <td>0</td>\n",
              "      <td>0</td>\n",
              "      <td>0</td>\n",
              "      <td>0</td>\n",
              "      <td>0</td>\n",
              "      <td>0</td>\n",
              "      <td>0</td>\n",
              "      <td>0</td>\n",
              "      <td>0</td>\n",
              "      <td>0</td>\n",
              "      <td>0</td>\n",
              "      <td>0</td>\n",
              "      <td>0</td>\n",
              "      <td>0</td>\n",
              "      <td>0</td>\n",
              "      <td>0</td>\n",
              "      <td>0</td>\n",
              "    </tr>\n",
              "  </tbody>\n",
              "</table>\n",
              "</div>"
            ],
            "text/plain": [
              "   customer_id  Target_20724  ...  Target_85099C  Target_85123A\n",
              "0        12347             0  ...              0              0\n",
              "1        12349             0  ...              0              0\n",
              "2        12352             0  ...              0              0\n",
              "3        12357             0  ...              0              0\n",
              "4        12359             0  ...              0              0\n",
              "\n",
              "[5 rows x 22 columns]"
            ]
          },
          "metadata": {
            "tags": []
          },
          "execution_count": 79
        }
      ]
    },
    {
      "cell_type": "code",
      "metadata": {
        "colab": {
          "base_uri": "https://localhost:8080/",
          "height": 284
        },
        "id": "_PvHlrKqUYVh",
        "outputId": "0e111ee6-7085-4824-b25b-cdc5a639446d"
      },
      "source": [
        "dataset=txns.groupby([\"customer_id\",\"item_id\"], as_index=False)[\"transaction_id\"].count()\n",
        "dataset.describe()"
      ],
      "execution_count": 80,
      "outputs": [
        {
          "output_type": "execute_result",
          "data": {
            "text/html": [
              "<div>\n",
              "<style scoped>\n",
              "    .dataframe tbody tr th:only-of-type {\n",
              "        vertical-align: middle;\n",
              "    }\n",
              "\n",
              "    .dataframe tbody tr th {\n",
              "        vertical-align: top;\n",
              "    }\n",
              "\n",
              "    .dataframe thead th {\n",
              "        text-align: right;\n",
              "    }\n",
              "</style>\n",
              "<table border=\"1\" class=\"dataframe\">\n",
              "  <thead>\n",
              "    <tr style=\"text-align: right;\">\n",
              "      <th></th>\n",
              "      <th>transaction_id</th>\n",
              "    </tr>\n",
              "  </thead>\n",
              "  <tbody>\n",
              "    <tr>\n",
              "      <th>count</th>\n",
              "      <td>417208.000000</td>\n",
              "    </tr>\n",
              "    <tr>\n",
              "      <th>mean</th>\n",
              "      <td>2.072050</td>\n",
              "    </tr>\n",
              "    <tr>\n",
              "      <th>std</th>\n",
              "      <td>8.354119</td>\n",
              "    </tr>\n",
              "    <tr>\n",
              "      <th>min</th>\n",
              "      <td>1.000000</td>\n",
              "    </tr>\n",
              "    <tr>\n",
              "      <th>25%</th>\n",
              "      <td>1.000000</td>\n",
              "    </tr>\n",
              "    <tr>\n",
              "      <th>50%</th>\n",
              "      <td>1.000000</td>\n",
              "    </tr>\n",
              "    <tr>\n",
              "      <th>75%</th>\n",
              "      <td>2.000000</td>\n",
              "    </tr>\n",
              "    <tr>\n",
              "      <th>max</th>\n",
              "      <td>1312.000000</td>\n",
              "    </tr>\n",
              "  </tbody>\n",
              "</table>\n",
              "</div>"
            ],
            "text/plain": [
              "       transaction_id\n",
              "count   417208.000000\n",
              "mean         2.072050\n",
              "std          8.354119\n",
              "min          1.000000\n",
              "25%          1.000000\n",
              "50%          1.000000\n",
              "75%          2.000000\n",
              "max       1312.000000"
            ]
          },
          "metadata": {
            "tags": []
          },
          "execution_count": 80
        }
      ]
    },
    {
      "cell_type": "code",
      "metadata": {
        "colab": {
          "base_uri": "https://localhost:8080/",
          "height": 195
        },
        "id": "1wXLN9LtZaAg",
        "outputId": "2e3e1daa-47c8-4d03-98b0-446d8a2c4de2"
      },
      "source": [
        "dataset.head()"
      ],
      "execution_count": 81,
      "outputs": [
        {
          "output_type": "execute_result",
          "data": {
            "text/html": [
              "<div>\n",
              "<style scoped>\n",
              "    .dataframe tbody tr th:only-of-type {\n",
              "        vertical-align: middle;\n",
              "    }\n",
              "\n",
              "    .dataframe tbody tr th {\n",
              "        vertical-align: top;\n",
              "    }\n",
              "\n",
              "    .dataframe thead th {\n",
              "        text-align: right;\n",
              "    }\n",
              "</style>\n",
              "<table border=\"1\" class=\"dataframe\">\n",
              "  <thead>\n",
              "    <tr style=\"text-align: right;\">\n",
              "      <th></th>\n",
              "      <th>customer_id</th>\n",
              "      <th>item_id</th>\n",
              "      <th>transaction_id</th>\n",
              "    </tr>\n",
              "  </thead>\n",
              "  <tbody>\n",
              "    <tr>\n",
              "      <th>0</th>\n",
              "      <td>12346.0</td>\n",
              "      <td>15056BL</td>\n",
              "      <td>1</td>\n",
              "    </tr>\n",
              "    <tr>\n",
              "      <th>1</th>\n",
              "      <td>12346.0</td>\n",
              "      <td>15056N</td>\n",
              "      <td>1</td>\n",
              "    </tr>\n",
              "    <tr>\n",
              "      <th>2</th>\n",
              "      <td>12346.0</td>\n",
              "      <td>15056P</td>\n",
              "      <td>1</td>\n",
              "    </tr>\n",
              "    <tr>\n",
              "      <th>3</th>\n",
              "      <td>12346.0</td>\n",
              "      <td>20679</td>\n",
              "      <td>1</td>\n",
              "    </tr>\n",
              "    <tr>\n",
              "      <th>4</th>\n",
              "      <td>12346.0</td>\n",
              "      <td>20682</td>\n",
              "      <td>1</td>\n",
              "    </tr>\n",
              "  </tbody>\n",
              "</table>\n",
              "</div>"
            ],
            "text/plain": [
              "  customer_id  item_id  transaction_id\n",
              "0     12346.0  15056BL               1\n",
              "1     12346.0   15056N               1\n",
              "2     12346.0   15056P               1\n",
              "3     12346.0    20679               1\n",
              "4     12346.0    20682               1"
            ]
          },
          "metadata": {
            "tags": []
          },
          "execution_count": 81
        }
      ]
    },
    {
      "cell_type": "markdown",
      "metadata": {
        "id": "rpx3pkfnVhpq"
      },
      "source": [
        "### Unique Counts"
      ]
    },
    {
      "cell_type": "code",
      "metadata": {
        "colab": {
          "base_uri": "https://localhost:8080/"
        },
        "id": "jHcR8WYXVlRw",
        "outputId": "edd71b6e-9b73-4105-a56e-bfa8014e8492"
      },
      "source": [
        "print('No. of Unique Users    :', dataset[\"customer_id\"].nunique())\n",
        "print('No. of Unique Business :', dataset[\"item_id\"].nunique())\n",
        "print('No. of Unique Ratings  :', dataset[\"transaction_id\"].nunique())"
      ],
      "execution_count": 82,
      "outputs": [
        {
          "output_type": "stream",
          "text": [
            "No. of Unique Users    : 5502\n",
            "No. of Unique Business : 5144\n",
            "No. of Unique Ratings  : 307\n"
          ],
          "name": "stdout"
        }
      ]
    },
    {
      "cell_type": "markdown",
      "metadata": {
        "id": "qc2Ju8MKV5ac"
      },
      "source": [
        "### Overall Count of Ratings given by Users"
      ]
    },
    {
      "cell_type": "code",
      "metadata": {
        "id": "QXG-v8yMV_8d"
      },
      "source": [
        "rating_gp = dataset.groupby(by=['transaction_id']).agg({'customer_id': 'count'}).reset_index()\n",
        "rating_gp.columns = ['Rating', 'Count']"
      ],
      "execution_count": 83,
      "outputs": []
    },
    {
      "cell_type": "code",
      "metadata": {
        "colab": {
          "base_uri": "https://localhost:8080/",
          "height": 520
        },
        "id": "eBFJ-9-JWRYM",
        "outputId": "9f80cb0b-d812-49c2-b283-cc2ffbaef139"
      },
      "source": [
        "plt.figure(figsize=(15,8))\n",
        "plt.barh(rating_gp.Rating, rating_gp.Count, color='royalblue')\n",
        "plt.title('Overall Count of Ratings', fontsize=15)\n",
        "plt.xlabel('Count', fontsize=15)\n",
        "plt.ylabel('Rating', fontsize=15)\n",
        "plt.grid(ls='dotted')\n",
        "plt.show()"
      ],
      "execution_count": 84,
      "outputs": [
        {
          "output_type": "display_data",
          "data": {
            "image/png": "[encoded data removed]",
            "text/plain": [
              "<Figure size 1080x576 with 1 Axes>"
            ]
          },
          "metadata": {
            "tags": [],
            "needs_background": "light"
          }
        }
      ]
    },
    {
      "cell_type": "markdown",
      "metadata": {
        "id": "wcGSi_8HXmPF"
      },
      "source": [
        "### There is one user item pair where number of transactions is 120 hence the long tail along Y axis. To identify a good enough limit for transactions we will try and find a suitable cut"
      ]
    },
    {
      "cell_type": "code",
      "metadata": {
        "colab": {
          "base_uri": "https://localhost:8080/",
          "height": 402
        },
        "id": "_xCkavI4Xk9u",
        "outputId": "23da34ce-f4b3-4f26-d95d-192b676bdf36"
      },
      "source": [
        "dataset[dataset[\"transaction_id\"]>8]"
      ],
      "execution_count": 85,
      "outputs": [
        {
          "output_type": "execute_result",
          "data": {
            "text/html": [
              "<div>\n",
              "<style scoped>\n",
              "    .dataframe tbody tr th:only-of-type {\n",
              "        vertical-align: middle;\n",
              "    }\n",
              "\n",
              "    .dataframe tbody tr th {\n",
              "        vertical-align: top;\n",
              "    }\n",
              "\n",
              "    .dataframe thead th {\n",
              "        text-align: right;\n",
              "    }\n",
              "</style>\n",
              "<table border=\"1\" class=\"dataframe\">\n",
              "  <thead>\n",
              "    <tr style=\"text-align: right;\">\n",
              "      <th></th>\n",
              "      <th>customer_id</th>\n",
              "      <th>item_id</th>\n",
              "      <th>transaction_id</th>\n",
              "    </tr>\n",
              "  </thead>\n",
              "  <tbody>\n",
              "    <tr>\n",
              "      <th>27</th>\n",
              "      <td>12346.0</td>\n",
              "      <td>M</td>\n",
              "      <td>9</td>\n",
              "    </tr>\n",
              "    <tr>\n",
              "      <th>28</th>\n",
              "      <td>12346.0</td>\n",
              "      <td>TEST001</td>\n",
              "      <td>9</td>\n",
              "    </tr>\n",
              "    <tr>\n",
              "      <th>3230</th>\n",
              "      <td>12395.0</td>\n",
              "      <td>POST</td>\n",
              "      <td>11</td>\n",
              "    </tr>\n",
              "    <tr>\n",
              "      <th>4847</th>\n",
              "      <td>12417.0</td>\n",
              "      <td>POST</td>\n",
              "      <td>17</td>\n",
              "    </tr>\n",
              "    <tr>\n",
              "      <th>5136</th>\n",
              "      <td>12422.0</td>\n",
              "      <td>POST</td>\n",
              "      <td>10</td>\n",
              "    </tr>\n",
              "    <tr>\n",
              "      <th>...</th>\n",
              "      <td>...</td>\n",
              "      <td>...</td>\n",
              "      <td>...</td>\n",
              "    </tr>\n",
              "    <tr>\n",
              "      <th>417194</th>\n",
              "      <td>nan</td>\n",
              "      <td>POST</td>\n",
              "      <td>78</td>\n",
              "    </tr>\n",
              "    <tr>\n",
              "      <th>417195</th>\n",
              "      <td>nan</td>\n",
              "      <td>S</td>\n",
              "      <td>93</td>\n",
              "    </tr>\n",
              "    <tr>\n",
              "      <th>417198</th>\n",
              "      <td>nan</td>\n",
              "      <td>gift_0001_10</td>\n",
              "      <td>15</td>\n",
              "    </tr>\n",
              "    <tr>\n",
              "      <th>417199</th>\n",
              "      <td>nan</td>\n",
              "      <td>gift_0001_20</td>\n",
              "      <td>28</td>\n",
              "    </tr>\n",
              "    <tr>\n",
              "      <th>417200</th>\n",
              "      <td>nan</td>\n",
              "      <td>gift_0001_30</td>\n",
              "      <td>29</td>\n",
              "    </tr>\n",
              "  </tbody>\n",
              "</table>\n",
              "<p>7432 rows × 3 columns</p>\n",
              "</div>"
            ],
            "text/plain": [
              "       customer_id       item_id  transaction_id\n",
              "27         12346.0             M               9\n",
              "28         12346.0       TEST001               9\n",
              "3230       12395.0          POST              11\n",
              "4847       12417.0          POST              17\n",
              "5136       12422.0          POST              10\n",
              "...            ...           ...             ...\n",
              "417194         nan          POST              78\n",
              "417195         nan             S              93\n",
              "417198         nan  gift_0001_10              15\n",
              "417199         nan  gift_0001_20              28\n",
              "417200         nan  gift_0001_30              29\n",
              "\n",
              "[7432 rows x 3 columns]"
            ]
          },
          "metadata": {
            "tags": []
          },
          "execution_count": 85
        }
      ]
    },
    {
      "cell_type": "code",
      "metadata": {
        "colab": {
          "base_uri": "https://localhost:8080/"
        },
        "id": "2dBisie8YKus",
        "outputId": "4afcbd42-cb01-4048-a9b3-708fbb37ffd4"
      },
      "source": [
        "4366/41222*100"
      ],
      "execution_count": 86,
      "outputs": [
        {
          "output_type": "execute_result",
          "data": {
            "text/plain": [
              "10.591431759739944"
            ]
          },
          "metadata": {
            "tags": []
          },
          "execution_count": 86
        }
      ]
    },
    {
      "cell_type": "markdown",
      "metadata": {
        "id": "7cuYSzcfYYjd"
      },
      "source": [
        "#### We will rescale about 10.6% of user-item interactions and limit the maximum rating to 8"
      ]
    },
    {
      "cell_type": "code",
      "metadata": {
        "colab": {
          "base_uri": "https://localhost:8080/",
          "height": 520
        },
        "id": "DuDKI0JMWyg_",
        "outputId": "cf133855-56a2-4f73-92ce-2cc537f8a783"
      },
      "source": [
        "plt.figure(figsize=(15,8))\n",
        "plt.barh(rating_gp.Rating, rating_gp.Count, color='royalblue')\n",
        "plt.title('Overall Count of Ratings', fontsize=15)\n",
        "plt.xlabel('Count', fontsize=15)\n",
        "plt.ylabel('Rating', fontsize=15)\n",
        "plt.grid(ls='dotted')\n",
        "plt.ylim([1, 20])\n",
        "plt.show()"
      ],
      "execution_count": 87,
      "outputs": [
        {
          "output_type": "display_data",
          "data": {
            "image/png": "[encoded data removed]",
            "text/plain": [
              "<Figure size 1080x576 with 1 Axes>"
            ]
          },
          "metadata": {
            "tags": [],
            "needs_background": "light"
          }
        }
      ]
    },
    {
      "cell_type": "code",
      "metadata": {
        "colab": {
          "base_uri": "https://localhost:8080/",
          "height": 195
        },
        "id": "LpGfLr4SUX8Z",
        "outputId": "19e299db-e56f-4495-c4fc-220033fd0f5b"
      },
      "source": [
        "maxVal = 8\n",
        "dataset[\"scaled_ratings\"]=dataset[\"transaction_id\"]\n",
        "dataset[\"scaled_ratings\"]=dataset['scaled_ratings'].where(dataset['scaled_ratings'] <= maxVal, maxVal)\n",
        "dataset.head()"
      ],
      "execution_count": 88,
      "outputs": [
        {
          "output_type": "execute_result",
          "data": {
            "text/html": [
              "<div>\n",
              "<style scoped>\n",
              "    .dataframe tbody tr th:only-of-type {\n",
              "        vertical-align: middle;\n",
              "    }\n",
              "\n",
              "    .dataframe tbody tr th {\n",
              "        vertical-align: top;\n",
              "    }\n",
              "\n",
              "    .dataframe thead th {\n",
              "        text-align: right;\n",
              "    }\n",
              "</style>\n",
              "<table border=\"1\" class=\"dataframe\">\n",
              "  <thead>\n",
              "    <tr style=\"text-align: right;\">\n",
              "      <th></th>\n",
              "      <th>customer_id</th>\n",
              "      <th>item_id</th>\n",
              "      <th>transaction_id</th>\n",
              "      <th>scaled_ratings</th>\n",
              "    </tr>\n",
              "  </thead>\n",
              "  <tbody>\n",
              "    <tr>\n",
              "      <th>0</th>\n",
              "      <td>12346.0</td>\n",
              "      <td>15056BL</td>\n",
              "      <td>1</td>\n",
              "      <td>1</td>\n",
              "    </tr>\n",
              "    <tr>\n",
              "      <th>1</th>\n",
              "      <td>12346.0</td>\n",
              "      <td>15056N</td>\n",
              "      <td>1</td>\n",
              "      <td>1</td>\n",
              "    </tr>\n",
              "    <tr>\n",
              "      <th>2</th>\n",
              "      <td>12346.0</td>\n",
              "      <td>15056P</td>\n",
              "      <td>1</td>\n",
              "      <td>1</td>\n",
              "    </tr>\n",
              "    <tr>\n",
              "      <th>3</th>\n",
              "      <td>12346.0</td>\n",
              "      <td>20679</td>\n",
              "      <td>1</td>\n",
              "      <td>1</td>\n",
              "    </tr>\n",
              "    <tr>\n",
              "      <th>4</th>\n",
              "      <td>12346.0</td>\n",
              "      <td>20682</td>\n",
              "      <td>1</td>\n",
              "      <td>1</td>\n",
              "    </tr>\n",
              "  </tbody>\n",
              "</table>\n",
              "</div>"
            ],
            "text/plain": [
              "  customer_id  item_id  transaction_id  scaled_ratings\n",
              "0     12346.0  15056BL               1               1\n",
              "1     12346.0   15056N               1               1\n",
              "2     12346.0   15056P               1               1\n",
              "3     12346.0    20679               1               1\n",
              "4     12346.0    20682               1               1"
            ]
          },
          "metadata": {
            "tags": []
          },
          "execution_count": 88
        }
      ]
    },
    {
      "cell_type": "markdown",
      "metadata": {
        "id": "WEtxENTbfOXF"
      },
      "source": [
        "#### Saving our ratings to a csv file"
      ]
    },
    {
      "cell_type": "code",
      "metadata": {
        "id": "QyYIZuuaeV4d"
      },
      "source": [
        "dataset=dataset[[\"customer_id\",\"item_id\",\"scaled_ratings\"]]\n",
        "dataset.to_csv(\"ratings.csv\",index=False)"
      ],
      "execution_count": 89,
      "outputs": []
    },
    {
      "cell_type": "markdown",
      "metadata": {
        "id": "adErtMysfYBo"
      },
      "source": [
        "### Lets move on to building a recommender system now"
      ]
    },
    {
      "cell_type": "markdown",
      "metadata": {
        "id": "eqKSIDIyfehF"
      },
      "source": [
        "### Memory based Recommender System"
      ]
    },
    {
      "cell_type": "markdown",
      "metadata": {
        "id": "41F2rjIafjGF"
      },
      "source": [
        "#### Choosing between user-user vs item-item matrix"
      ]
    },
    {
      "cell_type": "code",
      "metadata": {
        "colab": {
          "base_uri": "https://localhost:8080/"
        },
        "id": "E2lZEGztwx9w",
        "outputId": "84b2cdbf-1671-41d5-aff4-d8a48b765ec2"
      },
      "source": [
        "print(dataset[\"customer_id\"].nunique())\n",
        "print(dataset[\"item_id\"].nunique())"
      ],
      "execution_count": 90,
      "outputs": [
        {
          "output_type": "stream",
          "text": [
            "5502\n",
            "5144\n"
          ],
          "name": "stdout"
        }
      ]
    },
    {
      "cell_type": "markdown",
      "metadata": {
        "id": "bzj6LvSffu2_"
      },
      "source": [
        "#### As the order of unique values is same 10^3 there isnt much to choose between, if one of these was a order of magnitude lower than the other we would have chosen that to account for sparse representation."
      ]
    },
    {
      "cell_type": "code",
      "metadata": {
        "id": "UHoX2M_clJAS"
      },
      "source": [
        "reader = Reader(line_format='user item rating', sep=',',skip_lines=1,rating_scale=(1, 8))\n",
        "data = Dataset.load_from_file(\"ratings.csv\", reader=reader)"
      ],
      "execution_count": 91,
      "outputs": []
    },
    {
      "cell_type": "code",
      "metadata": {
        "colab": {
          "base_uri": "https://localhost:8080/"
        },
        "id": "vI6M8lrdhKL7",
        "outputId": "e6548970-53b9-40d0-d142-5278825ae86e"
      },
      "source": [
        "knnbasic_cv = cross_validate(KNNBasic(), data, cv=5, n_jobs=-2, verbose=False)\n",
        "knnmeans_cv = cross_validate(KNNWithMeans(), data, cv=5, n_jobs=-2, verbose=False)\n",
        "knnz_cv = cross_validate(KNNWithZScore(), data, cv=5, n_jobs=-2, verbose=False)"
      ],
      "execution_count": 92,
      "outputs": [
        {
          "output_type": "stream",
          "text": [
            "Computing the msd similarity matrix...\n",
            "Done computing similarity matrix.\n",
            "Computing the msd similarity matrix...\n",
            "Done computing similarity matrix.\n",
            "Computing the msd similarity matrix...\n",
            "Done computing similarity matrix.\n",
            "Computing the msd similarity matrix...\n",
            "Done computing similarity matrix.\n",
            "Computing the msd similarity matrix...\n",
            "Done computing similarity matrix.\n",
            "Computing the msd similarity matrix...\n",
            "Done computing similarity matrix.\n",
            "Computing the msd similarity matrix...\n",
            "Done computing similarity matrix.\n",
            "Computing the msd similarity matrix...\n",
            "Done computing similarity matrix.\n",
            "Computing the msd similarity matrix...\n",
            "Done computing similarity matrix.\n",
            "Computing the msd similarity matrix...\n",
            "Done computing similarity matrix.\n",
            "Computing the msd similarity matrix...\n",
            "Done computing similarity matrix.\n",
            "Computing the msd similarity matrix...\n",
            "Done computing similarity matrix.\n",
            "Computing the msd similarity matrix...\n",
            "Done computing similarity matrix.\n",
            "Computing the msd similarity matrix...\n",
            "Done computing similarity matrix.\n",
            "Computing the msd similarity matrix...\n",
            "Done computing similarity matrix.\n"
          ],
          "name": "stdout"
        }
      ]
    },
    {
      "cell_type": "markdown",
      "metadata": {
        "id": "1z2OGl3WhpHI"
      },
      "source": [
        "### MF Based Recommender Systems"
      ]
    },
    {
      "cell_type": "code",
      "metadata": {
        "id": "ymeAvDgmht2k"
      },
      "source": [
        "svd_cv = cross_validate(SVD(), data, cv=5, n_jobs=-2, verbose=False)\n",
        "# svdpp_cv = cross_validate(SVDpp(), data, cv=5, n_jobs=-2, verbose=False)  ....Was taking too long need to investigate why\n",
        "nmf_cv = cross_validate(NMF(), data, cv=5, n_jobs=-2, verbose=False)"
      ],
      "execution_count": 93,
      "outputs": []
    },
    {
      "cell_type": "markdown",
      "metadata": {
        "id": "ZNx7mRxlh2w9"
      },
      "source": [
        "### Other CF Recommender Systems"
      ]
    },
    {
      "cell_type": "code",
      "metadata": {
        "id": "JUxPvsghiB1V"
      },
      "source": [
        "slope_cv = cross_validate(SlopeOne(), data, cv=5, n_jobs=-2, verbose=False)\n",
        "coclus_cv = cross_validate(CoClustering(), data, cv=5, n_jobs=-2, verbose=False)"
      ],
      "execution_count": 94,
      "outputs": []
    },
    {
      "cell_type": "markdown",
      "metadata": {
        "id": "SOPxnxWpiLHe"
      },
      "source": [
        "### Results"
      ]
    },
    {
      "cell_type": "code",
      "metadata": {
        "colab": {
          "base_uri": "https://localhost:8080/"
        },
        "id": "H12ypgBeiNgQ",
        "outputId": "dc2b36e4-6036-4024-9d3e-6568fb3c3537"
      },
      "source": [
        "print('Algorithm\\t RMSE\\t\\t MAE')\n",
        "print()\n",
        "print('KNN Basic', '\\t', round(knnbasic_cv['test_rmse'].mean(), 4), '\\t', round(knnbasic_cv['test_mae'].mean(), 4))\n",
        "print('KNN Means', '\\t', round(knnmeans_cv['test_rmse'].mean(), 4), '\\t', round(knnmeans_cv['test_mae'].mean(), 4))\n",
        "print('KNN ZScore', '\\t', round(knnz_cv['test_rmse'].mean(), 4), '\\t', round(knnz_cv['test_mae'].mean(), 4))\n",
        "print()\n",
        "print('SVD', '\\t\\t', round(svd_cv['test_rmse'].mean(), 4), '\\t', round(svd_cv['test_mae'].mean(), 4))\n",
        "#print('SVDpp', '\\t\\t', round(svdpp_cv['test_rmse'].mean(), 4), '\\t', round(svdpp_cv['test_mae'].mean(), 4))\n",
        "print('NMF', '\\t\\t', round(nmf_cv['test_rmse'].mean(), 4), '\\t', round(nmf_cv['test_mae'].mean(), 4))\n",
        "print()\n",
        "print('SlopeOne', '\\t', round(slope_cv['test_rmse'].mean(), 4), '\\t', round(slope_cv['test_mae'].mean(), 4))\n",
        "print('CoClustering', '\\t', round(coclus_cv['test_rmse'].mean(), 4), '\\t', round(coclus_cv['test_mae'].mean(), 4))\n",
        "print()"
      ],
      "execution_count": 95,
      "outputs": [
        {
          "output_type": "stream",
          "text": [
            "Algorithm\t RMSE\t\t MAE\n",
            "\n",
            "KNN Basic \t 1.3379 \t 0.6671\n",
            "KNN Means \t 1.1045 \t 0.6498\n",
            "KNN ZScore \t 1.0988 \t 0.6456\n",
            "\n",
            "SVD \t\t 1.043 \t 0.621\n",
            "NMF \t\t 1.0376 \t 0.5954\n",
            "\n",
            "SlopeOne \t 1.111 \t 0.7006\n",
            "CoClustering \t 1.0848 \t 0.6465\n",
            "\n"
          ],
          "name": "stdout"
        }
      ]
    },
    {
      "cell_type": "code",
      "metadata": {
        "colab": {
          "base_uri": "https://localhost:8080/",
          "height": 336
        },
        "id": "75HrHARSiYOh",
        "outputId": "7903fa02-0eb0-4773-b180-3d10119549f2"
      },
      "source": [
        "x_algo = ['KNN Basic', 'KNN Means', 'KNN ZScore', 'SVD',  'NMF', 'SlopeOne', 'CoClustering']  #Removed 'SVDpp'\n",
        "all_algos_cv = [knnbasic_cv, knnmeans_cv, knnz_cv, svd_cv,  nmf_cv, slope_cv, coclus_cv] #Removed svdpp_cv,\n",
        "\n",
        "rmse_cv = [round(res['test_rmse'].mean(), 4) for res in all_algos_cv]\n",
        "mae_cv = [round(res['test_mae'].mean(), 4) for res in all_algos_cv]\n",
        "\n",
        "plt.figure(figsize=(20,5))\n",
        "\n",
        "plt.subplot(1, 2, 1)\n",
        "plt.title('Comparison of Algorithms on RMSE', loc='center', fontsize=15)\n",
        "plt.plot(x_algo, rmse_cv, label='RMSE', color='darkgreen', marker='o')\n",
        "plt.xlabel('Algorithms', fontsize=15)\n",
        "plt.ylabel('RMSE Value', fontsize=15)\n",
        "plt.legend()\n",
        "plt.grid(ls='dashed')\n",
        "\n",
        "plt.subplot(1, 2, 2)\n",
        "plt.title('Comparison of Algorithms on MAE', loc='center', fontsize=15)\n",
        "plt.plot(x_algo, mae_cv, label='MAE', color='navy', marker='o')\n",
        "plt.xlabel('Algorithms', fontsize=15)\n",
        "plt.ylabel('MAE Value', fontsize=15)\n",
        "plt.legend()\n",
        "plt.grid(ls='dashed')\n",
        "\n",
        "plt.show()"
      ],
      "execution_count": 96,
      "outputs": [
        {
          "output_type": "display_data",
          "data": {
            "image/png": "[encoded data removed]",
            "text/plain": [
              "<Figure size 1440x360 with 2 Axes>"
            ]
          },
          "metadata": {
            "tags": [],
            "needs_background": "light"
          }
        }
      ]
    },
    {
      "cell_type": "markdown",
      "metadata": {
        "id": "3aIb79CyqSob"
      },
      "source": [
        "### Best model basis RMSE is SVD, NMF being second. Likewise considering MAE NMF is the best model followed by SVD"
      ]
    },
    {
      "cell_type": "markdown",
      "metadata": {
        "id": "jdkAAXEtqrvh"
      },
      "source": [
        "##### Gridsearch for SVD"
      ]
    },
    {
      "cell_type": "code",
      "metadata": {
        "id": "Crg93U2ru7Ml"
      },
      "source": [
        "# Parameter space\n",
        "svd_param_grid = {'n_epochs': [20, 25],'n_factors':[5, 10,20], ### 'n_factors':[5, 10,20]  Search for number of Latent factors\n",
        "                  'lr_all': [0.007, 0.009, 0.01],\n",
        "                  'reg_all': [0.4, 0.6]}\n",
        "\n",
        "svd_gs = GridSearchCV(SVD, svd_param_grid, measures=['rmse', 'mae'], cv=5, n_jobs=5)\n",
        "svd_gs.fit(data)"
      ],
      "execution_count": 97,
      "outputs": []
    },
    {
      "cell_type": "code",
      "metadata": {
        "id": "KwZynvEFu7Ko",
        "colab": {
          "base_uri": "https://localhost:8080/"
        },
        "outputId": "73385d94-a1eb-4ccc-8d1b-ee7750ea030e"
      },
      "source": [
        "print('SVD   - RMSE:', round(svd_gs.best_score['rmse'], 4), '; MAE:', round(svd_gs.best_score['mae'], 4))"
      ],
      "execution_count": 98,
      "outputs": [
        {
          "output_type": "stream",
          "text": [
            "SVD   - RMSE: 1.144 ; MAE: 0.6781\n"
          ],
          "name": "stdout"
        }
      ]
    },
    {
      "cell_type": "code",
      "metadata": {
        "id": "nDUrqD2pu7Id",
        "colab": {
          "base_uri": "https://localhost:8080/"
        },
        "outputId": "43ba2e83-63e5-41ae-ee5e-e0e3d0257d55"
      },
      "source": [
        "print('RMSE =', svd_gs.best_params['rmse'])\n",
        "print('MAE =', svd_gs.best_params['mae'])"
      ],
      "execution_count": 99,
      "outputs": [
        {
          "output_type": "stream",
          "text": [
            "RMSE = {'n_epochs': 25, 'n_factors': 20, 'lr_all': 0.007, 'reg_all': 0.4}\n",
            "MAE = {'n_epochs': 25, 'n_factors': 20, 'lr_all': 0.01, 'reg_all': 0.4}\n"
          ],
          "name": "stdout"
        }
      ]
    },
    {
      "cell_type": "markdown",
      "metadata": {
        "id": "EQrFwTW3xLbg"
      },
      "source": [
        "##### Retrain model with entire train dataset and identified parameters"
      ]
    },
    {
      "cell_type": "code",
      "metadata": {
        "id": "3E9mB4RrwfrB"
      },
      "source": [
        "algo = svd_gs.best_estimator['rmse']"
      ],
      "execution_count": 100,
      "outputs": []
    },
    {
      "cell_type": "code",
      "metadata": {
        "colab": {
          "base_uri": "https://localhost:8080/"
        },
        "id": "xC4agLRIwfng",
        "outputId": "2fdb8b2a-d298-4ce4-f725-0b7edef628ac"
      },
      "source": [
        "algo.fit(data.build_full_trainset())"
      ],
      "execution_count": 101,
      "outputs": [
        {
          "output_type": "execute_result",
          "data": {
            "text/plain": [
              "<surprise.prediction_algorithms.matrix_factorization.SVD at 0x7fc5301c3ad0>"
            ]
          },
          "metadata": {
            "tags": []
          },
          "execution_count": 101
        }
      ]
    },
    {
      "cell_type": "markdown",
      "metadata": {
        "id": "QGs-7CRhscwB"
      },
      "source": [
        "#### Submission"
      ]
    },
    {
      "cell_type": "code",
      "metadata": {
        "id": "2deeJAaku7Gu",
        "colab": {
          "base_uri": "https://localhost:8080/",
          "height": 215
        },
        "outputId": "c00a27b4-c4a3-4eca-8011-f1991b73a293"
      },
      "source": [
        "submission=pd.read_csv(\"submission.csv\")\n",
        "submission.head()"
      ],
      "execution_count": 138,
      "outputs": [
        {
          "output_type": "execute_result",
          "data": {
            "text/html": [
              "<div>\n",
              "<style scoped>\n",
              "    .dataframe tbody tr th:only-of-type {\n",
              "        vertical-align: middle;\n",
              "    }\n",
              "\n",
              "    .dataframe tbody tr th {\n",
              "        vertical-align: top;\n",
              "    }\n",
              "\n",
              "    .dataframe thead th {\n",
              "        text-align: right;\n",
              "    }\n",
              "</style>\n",
              "<table border=\"1\" class=\"dataframe\">\n",
              "  <thead>\n",
              "    <tr style=\"text-align: right;\">\n",
              "      <th></th>\n",
              "      <th>customer_id</th>\n",
              "      <th>Target_20724</th>\n",
              "      <th>Target_20725</th>\n",
              "      <th>Target_20726</th>\n",
              "      <th>Target_20727</th>\n",
              "      <th>Target_20728</th>\n",
              "      <th>Target_20914</th>\n",
              "      <th>Target_21080</th>\n",
              "      <th>Target_21212</th>\n",
              "      <th>Target_21232</th>\n",
              "      <th>Target_21754</th>\n",
              "      <th>Target_21790</th>\n",
              "      <th>Target_21931</th>\n",
              "      <th>Target_21977</th>\n",
              "      <th>Target_22178</th>\n",
              "      <th>Target_22197</th>\n",
              "      <th>Target_22355</th>\n",
              "      <th>Target_84879</th>\n",
              "      <th>Target_84991</th>\n",
              "      <th>Target_85099B</th>\n",
              "      <th>Target_85099C</th>\n",
              "      <th>Target_85123A</th>\n",
              "    </tr>\n",
              "  </thead>\n",
              "  <tbody>\n",
              "    <tr>\n",
              "      <th>0</th>\n",
              "      <td>12347</td>\n",
              "      <td>0</td>\n",
              "      <td>0</td>\n",
              "      <td>0</td>\n",
              "      <td>0</td>\n",
              "      <td>0</td>\n",
              "      <td>0</td>\n",
              "      <td>0</td>\n",
              "      <td>0</td>\n",
              "      <td>0</td>\n",
              "      <td>0</td>\n",
              "      <td>0</td>\n",
              "      <td>0</td>\n",
              "      <td>0</td>\n",
              "      <td>0</td>\n",
              "      <td>0</td>\n",
              "      <td>0</td>\n",
              "      <td>0</td>\n",
              "      <td>0</td>\n",
              "      <td>0</td>\n",
              "      <td>0</td>\n",
              "      <td>0</td>\n",
              "    </tr>\n",
              "    <tr>\n",
              "      <th>1</th>\n",
              "      <td>12349</td>\n",
              "      <td>0</td>\n",
              "      <td>0</td>\n",
              "      <td>0</td>\n",
              "      <td>0</td>\n",
              "      <td>0</td>\n",
              "      <td>0</td>\n",
              "      <td>0</td>\n",
              "      <td>0</td>\n",
              "      <td>0</td>\n",
              "      <td>0</td>\n",
              "      <td>0</td>\n",
              "      <td>0</td>\n",
              "      <td>0</td>\n",
              "      <td>0</td>\n",
              "      <td>0</td>\n",
              "      <td>0</td>\n",
              "      <td>0</td>\n",
              "      <td>0</td>\n",
              "      <td>0</td>\n",
              "      <td>0</td>\n",
              "      <td>0</td>\n",
              "    </tr>\n",
              "    <tr>\n",
              "      <th>2</th>\n",
              "      <td>12352</td>\n",
              "      <td>0</td>\n",
              "      <td>0</td>\n",
              "      <td>0</td>\n",
              "      <td>0</td>\n",
              "      <td>0</td>\n",
              "      <td>0</td>\n",
              "      <td>0</td>\n",
              "      <td>0</td>\n",
              "      <td>0</td>\n",
              "      <td>0</td>\n",
              "      <td>0</td>\n",
              "      <td>0</td>\n",
              "      <td>0</td>\n",
              "      <td>0</td>\n",
              "      <td>0</td>\n",
              "      <td>0</td>\n",
              "      <td>0</td>\n",
              "      <td>0</td>\n",
              "      <td>0</td>\n",
              "      <td>0</td>\n",
              "      <td>0</td>\n",
              "    </tr>\n",
              "    <tr>\n",
              "      <th>3</th>\n",
              "      <td>12357</td>\n",
              "      <td>0</td>\n",
              "      <td>0</td>\n",
              "      <td>0</td>\n",
              "      <td>0</td>\n",
              "      <td>0</td>\n",
              "      <td>0</td>\n",
              "      <td>0</td>\n",
              "      <td>0</td>\n",
              "      <td>0</td>\n",
              "      <td>0</td>\n",
              "      <td>0</td>\n",
              "      <td>0</td>\n",
              "      <td>0</td>\n",
              "      <td>0</td>\n",
              "      <td>0</td>\n",
              "      <td>0</td>\n",
              "      <td>0</td>\n",
              "      <td>0</td>\n",
              "      <td>0</td>\n",
              "      <td>0</td>\n",
              "      <td>0</td>\n",
              "    </tr>\n",
              "    <tr>\n",
              "      <th>4</th>\n",
              "      <td>12359</td>\n",
              "      <td>0</td>\n",
              "      <td>0</td>\n",
              "      <td>0</td>\n",
              "      <td>0</td>\n",
              "      <td>0</td>\n",
              "      <td>0</td>\n",
              "      <td>0</td>\n",
              "      <td>0</td>\n",
              "      <td>0</td>\n",
              "      <td>0</td>\n",
              "      <td>0</td>\n",
              "      <td>0</td>\n",
              "      <td>0</td>\n",
              "      <td>0</td>\n",
              "      <td>0</td>\n",
              "      <td>0</td>\n",
              "      <td>0</td>\n",
              "      <td>0</td>\n",
              "      <td>0</td>\n",
              "      <td>0</td>\n",
              "      <td>0</td>\n",
              "    </tr>\n",
              "  </tbody>\n",
              "</table>\n",
              "</div>"
            ],
            "text/plain": [
              "   customer_id  Target_20724  ...  Target_85099C  Target_85123A\n",
              "0        12347             0  ...              0              0\n",
              "1        12349             0  ...              0              0\n",
              "2        12352             0  ...              0              0\n",
              "3        12357             0  ...              0              0\n",
              "4        12359             0  ...              0              0\n",
              "\n",
              "[5 rows x 22 columns]"
            ]
          },
          "metadata": {
            "tags": []
          },
          "execution_count": 138
        }
      ]
    },
    {
      "cell_type": "code",
      "metadata": {
        "id": "FnQBxAnju7EN",
        "colab": {
          "base_uri": "https://localhost:8080/"
        },
        "outputId": "88ce4f4d-14d3-43f9-c58f-3a5971b85ca3"
      },
      "source": [
        "items=submission.columns\n",
        "items=items[1:]\n",
        "items"
      ],
      "execution_count": 139,
      "outputs": [
        {
          "output_type": "execute_result",
          "data": {
            "text/plain": [
              "Index(['Target_20724', 'Target_20725', 'Target_20726', 'Target_20727',\n",
              "       'Target_20728', 'Target_20914', 'Target_21080', 'Target_21212',\n",
              "       'Target_21232', 'Target_21754', 'Target_21790', 'Target_21931',\n",
              "       'Target_21977', 'Target_22178', 'Target_22197', 'Target_22355',\n",
              "       'Target_84879', 'Target_84991', 'Target_85099B', 'Target_85099C',\n",
              "       'Target_85123A'],\n",
              "      dtype='object')"
            ]
          },
          "metadata": {
            "tags": []
          },
          "execution_count": 139
        }
      ]
    },
    {
      "cell_type": "code",
      "metadata": {
        "id": "CRSuJerLu7BO",
        "colab": {
          "base_uri": "https://localhost:8080/"
        },
        "outputId": "048d7f04-10cf-4fca-9a59-0600d8a06350"
      },
      "source": [
        "users=submission.customer_id.unique()\n",
        "users[:10]"
      ],
      "execution_count": 140,
      "outputs": [
        {
          "output_type": "execute_result",
          "data": {
            "text/plain": [
              "array([12347, 12349, 12352, 12357, 12359, 12362, 12364, 12370, 12371,\n",
              "       12375])"
            ]
          },
          "metadata": {
            "tags": []
          },
          "execution_count": 140
        }
      ]
    },
    {
      "cell_type": "code",
      "metadata": {
        "id": "WtVDhhPFu6-1",
        "colab": {
          "base_uri": "https://localhost:8080/"
        },
        "outputId": "11879377-e53f-427b-eb55-ee82e761a3ec"
      },
      "source": [
        "algo.predict(uid = 12359.0, iid = items[0][7:])"
      ],
      "execution_count": 141,
      "outputs": [
        {
          "output_type": "execute_result",
          "data": {
            "text/plain": [
              "Prediction(uid=12359.0, iid='20724', r_ui=None, est=2.256650712401542, details={'was_impossible': False})"
            ]
          },
          "metadata": {
            "tags": []
          },
          "execution_count": 141
        }
      ]
    },
    {
      "cell_type": "code",
      "metadata": {
        "id": "tENVD3NWESyC",
        "outputId": "af8fcf60-acfb-4eb0-adae-bb0e7fde4839",
        "colab": {
          "base_uri": "https://localhost:8080/"
        }
      },
      "source": [
        "algo.predict(uid = '12359.0', iid = items[0][7:])"
      ],
      "execution_count": 142,
      "outputs": [
        {
          "output_type": "execute_result",
          "data": {
            "text/plain": [
              "Prediction(uid='12359.0', iid='20724', r_ui=None, est=1.892221684717845, details={'was_impossible': False})"
            ]
          },
          "metadata": {
            "tags": []
          },
          "execution_count": 142
        }
      ]
    },
    {
      "cell_type": "code",
      "metadata": {
        "id": "QKZn1znDEYId",
        "outputId": "6ae428f4-6b46-44b0-deeb-064517c41855",
        "colab": {
          "base_uri": "https://localhost:8080/"
        }
      },
      "source": [
        "algo.predict(uid = '12347.0', iid = items[0][7:])"
      ],
      "execution_count": 143,
      "outputs": [
        {
          "output_type": "execute_result",
          "data": {
            "text/plain": [
              "Prediction(uid='12347.0', iid='20724', r_ui=None, est=2.1884569664035642, details={'was_impossible': False})"
            ]
          },
          "metadata": {
            "tags": []
          },
          "execution_count": 143
        }
      ]
    },
    {
      "cell_type": "code",
      "metadata": {
        "id": "uNHWKyNDu68I",
        "colab": {
          "base_uri": "https://localhost:8080/",
          "height": 47
        },
        "outputId": "f087ba38-b705-4fae-df8e-e45f2bd1d07b"
      },
      "source": [
        "col_names =  ['customer_id', 'item_id', 'rating']\n",
        "preds=pd.DataFrame(columns = col_names)\n",
        "preds"
      ],
      "execution_count": 144,
      "outputs": [
        {
          "output_type": "execute_result",
          "data": {
            "text/html": [
              "<div>\n",
              "<style scoped>\n",
              "    .dataframe tbody tr th:only-of-type {\n",
              "        vertical-align: middle;\n",
              "    }\n",
              "\n",
              "    .dataframe tbody tr th {\n",
              "        vertical-align: top;\n",
              "    }\n",
              "\n",
              "    .dataframe thead th {\n",
              "        text-align: right;\n",
              "    }\n",
              "</style>\n",
              "<table border=\"1\" class=\"dataframe\">\n",
              "  <thead>\n",
              "    <tr style=\"text-align: right;\">\n",
              "      <th></th>\n",
              "      <th>customer_id</th>\n",
              "      <th>item_id</th>\n",
              "      <th>rating</th>\n",
              "    </tr>\n",
              "  </thead>\n",
              "  <tbody>\n",
              "  </tbody>\n",
              "</table>\n",
              "</div>"
            ],
            "text/plain": [
              "Empty DataFrame\n",
              "Columns: [customer_id, item_id, rating]\n",
              "Index: []"
            ]
          },
          "metadata": {
            "tags": []
          },
          "execution_count": 144
        }
      ]
    },
    {
      "cell_type": "code",
      "metadata": {
        "id": "2bnpU7CVu640"
      },
      "source": [
        "for user in users:\n",
        "  for item in items:\n",
        "    user1=str(user)+'.0'\n",
        "    #print(user1)\n",
        "    rating= algo.predict(uid = user1, iid = item[7:])\n",
        "    new_row = {'customer_id':user, 'item_id':item, 'rating':rating.est}\n",
        "    preds = preds.append(new_row, ignore_index=True)\n"
      ],
      "execution_count": 145,
      "outputs": []
    },
    {
      "cell_type": "code",
      "metadata": {
        "id": "ET7Cj7wau61R"
      },
      "source": [
        "preds.to_csv(\"predictions.csv\",index=False)"
      ],
      "execution_count": 146,
      "outputs": []
    },
    {
      "cell_type": "code",
      "metadata": {
        "id": "5QhXgw0IacS2",
        "outputId": "63429577-f862-48c2-e054-45c29b7fbfa8",
        "colab": {
          "base_uri": "https://localhost:8080/",
          "height": 215
        }
      },
      "source": [
        "predictions_wide=preds.pivot(index='customer_id',columns='item_id',values='rating').reset_index()\n",
        "predictions_wide.head()"
      ],
      "execution_count": 147,
      "outputs": [
        {
          "output_type": "execute_result",
          "data": {
            "text/html": [
              "<div>\n",
              "<style scoped>\n",
              "    .dataframe tbody tr th:only-of-type {\n",
              "        vertical-align: middle;\n",
              "    }\n",
              "\n",
              "    .dataframe tbody tr th {\n",
              "        vertical-align: top;\n",
              "    }\n",
              "\n",
              "    .dataframe thead th {\n",
              "        text-align: right;\n",
              "    }\n",
              "</style>\n",
              "<table border=\"1\" class=\"dataframe\">\n",
              "  <thead>\n",
              "    <tr style=\"text-align: right;\">\n",
              "      <th>item_id</th>\n",
              "      <th>customer_id</th>\n",
              "      <th>Target_20724</th>\n",
              "      <th>Target_20725</th>\n",
              "      <th>Target_20726</th>\n",
              "      <th>Target_20727</th>\n",
              "      <th>Target_20728</th>\n",
              "      <th>Target_20914</th>\n",
              "      <th>Target_21080</th>\n",
              "      <th>Target_21212</th>\n",
              "      <th>Target_21232</th>\n",
              "      <th>Target_21754</th>\n",
              "      <th>Target_21790</th>\n",
              "      <th>Target_21931</th>\n",
              "      <th>Target_21977</th>\n",
              "      <th>Target_22178</th>\n",
              "      <th>Target_22197</th>\n",
              "      <th>Target_22355</th>\n",
              "      <th>Target_84879</th>\n",
              "      <th>Target_84991</th>\n",
              "      <th>Target_85099B</th>\n",
              "      <th>Target_85099C</th>\n",
              "      <th>Target_85123A</th>\n",
              "    </tr>\n",
              "  </thead>\n",
              "  <tbody>\n",
              "    <tr>\n",
              "      <th>0</th>\n",
              "      <td>12347</td>\n",
              "      <td>2.188457</td>\n",
              "      <td>2.326013</td>\n",
              "      <td>2.181332</td>\n",
              "      <td>2.237343</td>\n",
              "      <td>2.081022</td>\n",
              "      <td>2.334287</td>\n",
              "      <td>1.774823</td>\n",
              "      <td>1.898387</td>\n",
              "      <td>2.477009</td>\n",
              "      <td>2.235752</td>\n",
              "      <td>1.723951</td>\n",
              "      <td>2.351070</td>\n",
              "      <td>1.911276</td>\n",
              "      <td>2.023278</td>\n",
              "      <td>2.183022</td>\n",
              "      <td>2.202436</td>\n",
              "      <td>2.211728</td>\n",
              "      <td>1.934884</td>\n",
              "      <td>2.523626</td>\n",
              "      <td>2.174045</td>\n",
              "      <td>2.632294</td>\n",
              "    </tr>\n",
              "    <tr>\n",
              "      <th>1</th>\n",
              "      <td>12349</td>\n",
              "      <td>1.874983</td>\n",
              "      <td>2.012526</td>\n",
              "      <td>1.867869</td>\n",
              "      <td>1.923846</td>\n",
              "      <td>1.767578</td>\n",
              "      <td>2.020892</td>\n",
              "      <td>1.461596</td>\n",
              "      <td>1.585082</td>\n",
              "      <td>2.163679</td>\n",
              "      <td>1.922461</td>\n",
              "      <td>1.410827</td>\n",
              "      <td>2.037386</td>\n",
              "      <td>1.598030</td>\n",
              "      <td>1.710101</td>\n",
              "      <td>1.869703</td>\n",
              "      <td>1.888950</td>\n",
              "      <td>1.898481</td>\n",
              "      <td>1.621634</td>\n",
              "      <td>2.210055</td>\n",
              "      <td>1.860467</td>\n",
              "      <td>2.318958</td>\n",
              "    </tr>\n",
              "    <tr>\n",
              "      <th>2</th>\n",
              "      <td>12352</td>\n",
              "      <td>2.234211</td>\n",
              "      <td>2.371757</td>\n",
              "      <td>2.227114</td>\n",
              "      <td>2.283048</td>\n",
              "      <td>2.126857</td>\n",
              "      <td>2.380140</td>\n",
              "      <td>1.821016</td>\n",
              "      <td>1.944410</td>\n",
              "      <td>2.522972</td>\n",
              "      <td>2.281837</td>\n",
              "      <td>1.770316</td>\n",
              "      <td>2.396468</td>\n",
              "      <td>1.957388</td>\n",
              "      <td>2.069517</td>\n",
              "      <td>2.228965</td>\n",
              "      <td>2.248135</td>\n",
              "      <td>2.257880</td>\n",
              "      <td>1.980994</td>\n",
              "      <td>2.569197</td>\n",
              "      <td>2.219614</td>\n",
              "      <td>2.678241</td>\n",
              "    </tr>\n",
              "    <tr>\n",
              "      <th>3</th>\n",
              "      <td>12357</td>\n",
              "      <td>1.776543</td>\n",
              "      <td>1.914091</td>\n",
              "      <td>1.769443</td>\n",
              "      <td>1.825396</td>\n",
              "      <td>1.669175</td>\n",
              "      <td>1.922520</td>\n",
              "      <td>1.363365</td>\n",
              "      <td>1.486786</td>\n",
              "      <td>2.065333</td>\n",
              "      <td>1.824190</td>\n",
              "      <td>1.312687</td>\n",
              "      <td>1.938772</td>\n",
              "      <td>1.499780</td>\n",
              "      <td>1.611918</td>\n",
              "      <td>1.771390</td>\n",
              "      <td>1.790511</td>\n",
              "      <td>1.800266</td>\n",
              "      <td>1.523394</td>\n",
              "      <td>2.111561</td>\n",
              "      <td>1.761960</td>\n",
              "      <td>2.220648</td>\n",
              "    </tr>\n",
              "    <tr>\n",
              "      <th>4</th>\n",
              "      <td>12359</td>\n",
              "      <td>1.892222</td>\n",
              "      <td>2.029770</td>\n",
              "      <td>1.885114</td>\n",
              "      <td>1.941073</td>\n",
              "      <td>1.784839</td>\n",
              "      <td>2.038184</td>\n",
              "      <td>1.478994</td>\n",
              "      <td>1.602430</td>\n",
              "      <td>2.180985</td>\n",
              "      <td>1.939830</td>\n",
              "      <td>1.428293</td>\n",
              "      <td>2.054489</td>\n",
              "      <td>1.615409</td>\n",
              "      <td>1.727537</td>\n",
              "      <td>1.887042</td>\n",
              "      <td>1.906184</td>\n",
              "      <td>1.915883</td>\n",
              "      <td>1.639012</td>\n",
              "      <td>2.227250</td>\n",
              "      <td>1.877643</td>\n",
              "      <td>2.336294</td>\n",
              "    </tr>\n",
              "  </tbody>\n",
              "</table>\n",
              "</div>"
            ],
            "text/plain": [
              "item_id  customer_id  Target_20724  ...  Target_85099C  Target_85123A\n",
              "0              12347      2.188457  ...       2.174045       2.632294\n",
              "1              12349      1.874983  ...       1.860467       2.318958\n",
              "2              12352      2.234211  ...       2.219614       2.678241\n",
              "3              12357      1.776543  ...       1.761960       2.220648\n",
              "4              12359      1.892222  ...       1.877643       2.336294\n",
              "\n",
              "[5 rows x 22 columns]"
            ]
          },
          "metadata": {
            "tags": []
          },
          "execution_count": 147
        }
      ]
    },
    {
      "cell_type": "code",
      "metadata": {
        "id": "jw8Nhex9ad7X"
      },
      "source": [
        "predictions_wide.to_csv(\"predictions_wide.csv\",index=False)"
      ],
      "execution_count": 148,
      "outputs": []
    },
    {
      "cell_type": "markdown",
      "metadata": {
        "id": "YN0veJ11btXz"
      },
      "source": [
        "##### Order ratings for each user  and pick top 3"
      ]
    },
    {
      "cell_type": "code",
      "metadata": {
        "id": "9BQjwffqWwd6",
        "outputId": "3684169d-9cd5-4964-cbc7-b2d06300b540",
        "colab": {
          "base_uri": "https://localhost:8080/",
          "height": 195
        }
      },
      "source": [
        "preds1=preds.groupby(['customer_id']).apply(lambda x: x.sort_values('rating',ascending=False)).reset_index(drop=True)\n",
        "preds1.head()"
      ],
      "execution_count": 127,
      "outputs": [
        {
          "output_type": "execute_result",
          "data": {
            "text/html": [
              "<div>\n",
              "<style scoped>\n",
              "    .dataframe tbody tr th:only-of-type {\n",
              "        vertical-align: middle;\n",
              "    }\n",
              "\n",
              "    .dataframe tbody tr th {\n",
              "        vertical-align: top;\n",
              "    }\n",
              "\n",
              "    .dataframe thead th {\n",
              "        text-align: right;\n",
              "    }\n",
              "</style>\n",
              "<table border=\"1\" class=\"dataframe\">\n",
              "  <thead>\n",
              "    <tr style=\"text-align: right;\">\n",
              "      <th></th>\n",
              "      <th>customer_id</th>\n",
              "      <th>item_id</th>\n",
              "      <th>rating</th>\n",
              "    </tr>\n",
              "  </thead>\n",
              "  <tbody>\n",
              "    <tr>\n",
              "      <th>0</th>\n",
              "      <td>12347</td>\n",
              "      <td>Target_85123A</td>\n",
              "      <td>2.632294</td>\n",
              "    </tr>\n",
              "    <tr>\n",
              "      <th>1</th>\n",
              "      <td>12347</td>\n",
              "      <td>Target_85099B</td>\n",
              "      <td>2.523626</td>\n",
              "    </tr>\n",
              "    <tr>\n",
              "      <th>2</th>\n",
              "      <td>12347</td>\n",
              "      <td>Target_21232</td>\n",
              "      <td>2.477009</td>\n",
              "    </tr>\n",
              "    <tr>\n",
              "      <th>3</th>\n",
              "      <td>12347</td>\n",
              "      <td>Target_21931</td>\n",
              "      <td>2.351070</td>\n",
              "    </tr>\n",
              "    <tr>\n",
              "      <th>4</th>\n",
              "      <td>12347</td>\n",
              "      <td>Target_20914</td>\n",
              "      <td>2.334287</td>\n",
              "    </tr>\n",
              "  </tbody>\n",
              "</table>\n",
              "</div>"
            ],
            "text/plain": [
              "  customer_id        item_id    rating\n",
              "0       12347  Target_85123A  2.632294\n",
              "1       12347  Target_85099B  2.523626\n",
              "2       12347   Target_21232  2.477009\n",
              "3       12347   Target_21931  2.351070\n",
              "4       12347   Target_20914  2.334287"
            ]
          },
          "metadata": {
            "tags": []
          },
          "execution_count": 127
        }
      ]
    },
    {
      "cell_type": "code",
      "metadata": {
        "id": "-9ui_5BnV202",
        "outputId": "4d30fd99-2394-4db3-bfe0-533697bc1af8",
        "colab": {
          "base_uri": "https://localhost:8080/",
          "height": 195
        }
      },
      "source": [
        "preds1=preds1.groupby(['customer_id']).head(3).reset_index(drop=True)\n",
        "preds1.head()"
      ],
      "execution_count": 130,
      "outputs": [
        {
          "output_type": "execute_result",
          "data": {
            "text/html": [
              "<div>\n",
              "<style scoped>\n",
              "    .dataframe tbody tr th:only-of-type {\n",
              "        vertical-align: middle;\n",
              "    }\n",
              "\n",
              "    .dataframe tbody tr th {\n",
              "        vertical-align: top;\n",
              "    }\n",
              "\n",
              "    .dataframe thead th {\n",
              "        text-align: right;\n",
              "    }\n",
              "</style>\n",
              "<table border=\"1\" class=\"dataframe\">\n",
              "  <thead>\n",
              "    <tr style=\"text-align: right;\">\n",
              "      <th></th>\n",
              "      <th>customer_id</th>\n",
              "      <th>item_id</th>\n",
              "      <th>rating</th>\n",
              "    </tr>\n",
              "  </thead>\n",
              "  <tbody>\n",
              "    <tr>\n",
              "      <th>0</th>\n",
              "      <td>12347</td>\n",
              "      <td>Target_85123A</td>\n",
              "      <td>2.632294</td>\n",
              "    </tr>\n",
              "    <tr>\n",
              "      <th>1</th>\n",
              "      <td>12347</td>\n",
              "      <td>Target_85099B</td>\n",
              "      <td>2.523626</td>\n",
              "    </tr>\n",
              "    <tr>\n",
              "      <th>2</th>\n",
              "      <td>12347</td>\n",
              "      <td>Target_21232</td>\n",
              "      <td>2.477009</td>\n",
              "    </tr>\n",
              "    <tr>\n",
              "      <th>3</th>\n",
              "      <td>12349</td>\n",
              "      <td>Target_85123A</td>\n",
              "      <td>2.318958</td>\n",
              "    </tr>\n",
              "    <tr>\n",
              "      <th>4</th>\n",
              "      <td>12349</td>\n",
              "      <td>Target_85099B</td>\n",
              "      <td>2.210055</td>\n",
              "    </tr>\n",
              "  </tbody>\n",
              "</table>\n",
              "</div>"
            ],
            "text/plain": [
              "  customer_id        item_id    rating\n",
              "0       12347  Target_85123A  2.632294\n",
              "1       12347  Target_85099B  2.523626\n",
              "2       12347   Target_21232  2.477009\n",
              "3       12349  Target_85123A  2.318958\n",
              "4       12349  Target_85099B  2.210055"
            ]
          },
          "metadata": {
            "tags": []
          },
          "execution_count": 130
        }
      ]
    },
    {
      "cell_type": "code",
      "metadata": {
        "id": "kYl27IpMejf0",
        "colab": {
          "base_uri": "https://localhost:8080/",
          "height": 195
        },
        "outputId": "c78a9dc3-eeb5-4c0b-aa84-91747e02f958"
      },
      "source": [
        "predictions_wide=preds1.pivot(index='customer_id',columns='item_id',values='rating').reset_index()\n",
        "predictions_wide.head()"
      ],
      "execution_count": 132,
      "outputs": [
        {
          "output_type": "execute_result",
          "data": {
            "text/html": [
              "<div>\n",
              "<style scoped>\n",
              "    .dataframe tbody tr th:only-of-type {\n",
              "        vertical-align: middle;\n",
              "    }\n",
              "\n",
              "    .dataframe tbody tr th {\n",
              "        vertical-align: top;\n",
              "    }\n",
              "\n",
              "    .dataframe thead th {\n",
              "        text-align: right;\n",
              "    }\n",
              "</style>\n",
              "<table border=\"1\" class=\"dataframe\">\n",
              "  <thead>\n",
              "    <tr style=\"text-align: right;\">\n",
              "      <th>item_id</th>\n",
              "      <th>customer_id</th>\n",
              "      <th>Target_21232</th>\n",
              "      <th>Target_85099B</th>\n",
              "      <th>Target_85123A</th>\n",
              "    </tr>\n",
              "  </thead>\n",
              "  <tbody>\n",
              "    <tr>\n",
              "      <th>0</th>\n",
              "      <td>12347</td>\n",
              "      <td>2.477009</td>\n",
              "      <td>2.523626</td>\n",
              "      <td>2.632294</td>\n",
              "    </tr>\n",
              "    <tr>\n",
              "      <th>1</th>\n",
              "      <td>12349</td>\n",
              "      <td>2.163679</td>\n",
              "      <td>2.210055</td>\n",
              "      <td>2.318958</td>\n",
              "    </tr>\n",
              "    <tr>\n",
              "      <th>2</th>\n",
              "      <td>12352</td>\n",
              "      <td>2.522972</td>\n",
              "      <td>2.569197</td>\n",
              "      <td>2.678241</td>\n",
              "    </tr>\n",
              "    <tr>\n",
              "      <th>3</th>\n",
              "      <td>12357</td>\n",
              "      <td>2.065333</td>\n",
              "      <td>2.111561</td>\n",
              "      <td>2.220648</td>\n",
              "    </tr>\n",
              "    <tr>\n",
              "      <th>4</th>\n",
              "      <td>12359</td>\n",
              "      <td>2.180985</td>\n",
              "      <td>2.227250</td>\n",
              "      <td>2.336294</td>\n",
              "    </tr>\n",
              "  </tbody>\n",
              "</table>\n",
              "</div>"
            ],
            "text/plain": [
              "item_id  customer_id  Target_21232  Target_85099B  Target_85123A\n",
              "0              12347      2.477009       2.523626       2.632294\n",
              "1              12349      2.163679       2.210055       2.318958\n",
              "2              12352      2.522972       2.569197       2.678241\n",
              "3              12357      2.065333       2.111561       2.220648\n",
              "4              12359      2.180985       2.227250       2.336294"
            ]
          },
          "metadata": {
            "tags": []
          },
          "execution_count": 132
        }
      ]
    }
  ]
}