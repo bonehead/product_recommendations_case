{
  "nbformat": 4,
  "nbformat_minor": 0,
  "metadata": {
    "colab": {
      "name": "Copy of Recommenders.ipynb",
      "provenance": []
    },
    "kernelspec": {
      "name": "python3",
      "display_name": "Python 3"
    },
    "language_info": {
      "name": "python"
    }
  },
  "cells": [
    {
      "cell_type": "code",
      "metadata": {
        "id": "MCcMw3Hb3I2d",
        "colab": {
          "base_uri": "https://localhost:8080/"
        },
        "outputId": "a49b1ab3-2b5b-4d17-eeff-e426cbfd82ed"
      },
      "source": [
        "import pandas as pd\n",
        "import zipfile\n",
        "!pip install scikit-surprise\n",
        "\n",
        "from surprise import Dataset, Reader\n",
        "from surprise.model_selection import cross_validate\n",
        "from surprise.model_selection import GridSearchCV\n",
        "from surprise import KNNBasic, KNNWithMeans, KNNWithZScore\n",
        "from surprise import SVD, SVDpp, NMF\n",
        "from surprise import SlopeOne, CoClustering\n",
        "\n",
        "import matplotlib.pyplot as plt\n",
        "%matplotlib inline"
      ],
      "execution_count": 44,
      "outputs": [
        {
          "output_type": "stream",
          "text": [
            "Requirement already satisfied: scikit-surprise in /usr/local/lib/python3.7/dist-packages (1.1.1)\n",
            "Requirement already satisfied: scipy>=1.0.0 in /usr/local/lib/python3.7/dist-packages (from scikit-surprise) (1.4.1)\n",
            "Requirement already satisfied: numpy>=1.11.2 in /usr/local/lib/python3.7/dist-packages (from scikit-surprise) (1.19.5)\n",
            "Requirement already satisfied: six>=1.10.0 in /usr/local/lib/python3.7/dist-packages (from scikit-surprise) (1.15.0)\n",
            "Requirement already satisfied: joblib>=0.11 in /usr/local/lib/python3.7/dist-packages (from scikit-surprise) (1.0.1)\n"
          ],
          "name": "stdout"
        }
      ]
    },
    {
      "cell_type": "code",
      "metadata": {
        "colab": {
          "base_uri": "https://localhost:8080/"
        },
        "id": "zYMNhrzHb2BD",
        "outputId": "7afdf48b-15cc-4d46-a51b-c6b5e82438fb"
      },
      "source": [
        "!wget https://github.com/bonehead/product_recommendations_case/blob/main/train.zip?raw=true\n",
        "!wget https://raw.githubusercontent.com/bonehead/product_recommendations_case/main/submission.csv\n",
        "!mv train.zip?raw=true train.zip\n",
        "file_to_extract='train.csv'\n",
        "with zipfile.ZipFile(\"train.zip\") as z:\n",
        "  with open(file_to_extract, 'wb') as f:\n",
        "    f.write(z.read(file_to_extract))\n",
        "    print(\"Extracted\", file_to_extract)"
      ],
      "execution_count": 2,
      "outputs": [
        {
          "output_type": "stream",
          "text": [
            "--2021-05-27 05:34:39--  https://github.com/bonehead/product_recommendations_case/blob/main/train.zip?raw=true\n",
            "Resolving github.com (github.com)... 192.30.255.113\n",
            "Connecting to github.com (github.com)|192.30.255.113|:443... connected.\n",
            "HTTP request sent, awaiting response... 302 Found\n",
            "Location: https://github.com/bonehead/product_recommendations_case/raw/main/train.zip [following]\n",
            "--2021-05-27 05:34:40--  https://github.com/bonehead/product_recommendations_case/raw/main/train.zip\n",
            "Reusing existing connection to github.com:443.\n",
            "HTTP request sent, awaiting response... 302 Found\n",
            "Location: https://raw.githubusercontent.com/bonehead/product_recommendations_case/main/train.zip [following]\n",
            "--2021-05-27 05:34:40--  https://raw.githubusercontent.com/bonehead/product_recommendations_case/main/train.zip\n",
            "Resolving raw.githubusercontent.com (raw.githubusercontent.com)... 185.199.109.133, 185.199.108.133, 185.199.110.133, ...\n",
            "Connecting to raw.githubusercontent.com (raw.githubusercontent.com)|185.199.109.133|:443... connected.\n",
            "HTTP request sent, awaiting response... 200 OK\n",
            "Length: 4874087 (4.6M) [application/zip]\n",
            "Saving to: ‘train.zip?raw=true’\n",
            "\n",
            "train.zip?raw=true  100%[===================>]   4.65M  --.-KB/s    in 0.1s    \n",
            "\n",
            "2021-05-27 05:34:41 (38.1 MB/s) - ‘train.zip?raw=true’ saved [4874087/4874087]\n",
            "\n",
            "--2021-05-27 05:34:41--  https://raw.githubusercontent.com/bonehead/product_recommendations_case/main/submission.csv\n",
            "Resolving raw.githubusercontent.com (raw.githubusercontent.com)... 185.199.108.133, 185.199.109.133, 185.199.110.133, ...\n",
            "Connecting to raw.githubusercontent.com (raw.githubusercontent.com)|185.199.108.133|:443... connected.\n",
            "HTTP request sent, awaiting response... 200 OK\n",
            "Length: 58944 (58K) [text/plain]\n",
            "Saving to: ‘submission.csv’\n",
            "\n",
            "submission.csv      100%[===================>]  57.56K  --.-KB/s    in 0.008s  \n",
            "\n",
            "2021-05-27 05:34:41 (6.67 MB/s) - ‘submission.csv’ saved [58944/58944]\n",
            "\n",
            "Extracted train.csv\n"
          ],
          "name": "stdout"
        }
      ]
    },
    {
      "cell_type": "code",
      "metadata": {
        "colab": {
          "base_uri": "https://localhost:8080/",
          "height": 195
        },
        "id": "REGHdbp04Ma2",
        "outputId": "11f2b333-fee0-4a6f-cdf9-10efe26ca27c"
      },
      "source": [
        "txns=pd.read_csv(\"train.csv\",parse_dates=[\"InvoiceDate\"])\n",
        "txns.head()"
      ],
      "execution_count": 3,
      "outputs": [
        {
          "output_type": "execute_result",
          "data": {
            "text/html": [
              "<div>\n",
              "<style scoped>\n",
              "    .dataframe tbody tr th:only-of-type {\n",
              "        vertical-align: middle;\n",
              "    }\n",
              "\n",
              "    .dataframe tbody tr th {\n",
              "        vertical-align: top;\n",
              "    }\n",
              "\n",
              "    .dataframe thead th {\n",
              "        text-align: right;\n",
              "    }\n",
              "</style>\n",
              "<table border=\"1\" class=\"dataframe\">\n",
              "  <thead>\n",
              "    <tr style=\"text-align: right;\">\n",
              "      <th></th>\n",
              "      <th>transaction_id</th>\n",
              "      <th>item_id</th>\n",
              "      <th>item_qty</th>\n",
              "      <th>InvoiceDate</th>\n",
              "      <th>item_amt</th>\n",
              "      <th>customer_id</th>\n",
              "    </tr>\n",
              "  </thead>\n",
              "  <tbody>\n",
              "    <tr>\n",
              "      <th>0</th>\n",
              "      <td>536365</td>\n",
              "      <td>85123A</td>\n",
              "      <td>6</td>\n",
              "      <td>2010-12-01 08:26:00</td>\n",
              "      <td>2.55</td>\n",
              "      <td>17850.0</td>\n",
              "    </tr>\n",
              "    <tr>\n",
              "      <th>1</th>\n",
              "      <td>536365</td>\n",
              "      <td>71053</td>\n",
              "      <td>6</td>\n",
              "      <td>2010-12-01 08:26:00</td>\n",
              "      <td>3.39</td>\n",
              "      <td>17850.0</td>\n",
              "    </tr>\n",
              "    <tr>\n",
              "      <th>2</th>\n",
              "      <td>536365</td>\n",
              "      <td>84406B</td>\n",
              "      <td>8</td>\n",
              "      <td>2010-12-01 08:26:00</td>\n",
              "      <td>2.75</td>\n",
              "      <td>17850.0</td>\n",
              "    </tr>\n",
              "    <tr>\n",
              "      <th>3</th>\n",
              "      <td>536365</td>\n",
              "      <td>84029G</td>\n",
              "      <td>6</td>\n",
              "      <td>2010-12-01 08:26:00</td>\n",
              "      <td>3.39</td>\n",
              "      <td>17850.0</td>\n",
              "    </tr>\n",
              "    <tr>\n",
              "      <th>4</th>\n",
              "      <td>536365</td>\n",
              "      <td>84029E</td>\n",
              "      <td>6</td>\n",
              "      <td>2010-12-01 08:26:00</td>\n",
              "      <td>3.39</td>\n",
              "      <td>17850.0</td>\n",
              "    </tr>\n",
              "  </tbody>\n",
              "</table>\n",
              "</div>"
            ],
            "text/plain": [
              "  transaction_id item_id  item_qty         InvoiceDate  item_amt  customer_id\n",
              "0         536365  85123A         6 2010-12-01 08:26:00      2.55      17850.0\n",
              "1         536365   71053         6 2010-12-01 08:26:00      3.39      17850.0\n",
              "2         536365  84406B         8 2010-12-01 08:26:00      2.75      17850.0\n",
              "3         536365  84029G         6 2010-12-01 08:26:00      3.39      17850.0\n",
              "4         536365  84029E         6 2010-12-01 08:26:00      3.39      17850.0"
            ]
          },
          "metadata": {
            "tags": []
          },
          "execution_count": 3
        }
      ]
    },
    {
      "cell_type": "code",
      "metadata": {
        "colab": {
          "base_uri": "https://localhost:8080/",
          "height": 284
        },
        "id": "_PvHlrKqUYVh",
        "outputId": "d684b2a6-2a1c-4f43-e615-ce062396f31e"
      },
      "source": [
        "dataset=txns.groupby([\"customer_id\",\"item_id\"], as_index=False)[\"transaction_id\"].count()\n",
        "dataset.describe()"
      ],
      "execution_count": 4,
      "outputs": [
        {
          "output_type": "execute_result",
          "data": {
            "text/html": [
              "<div>\n",
              "<style scoped>\n",
              "    .dataframe tbody tr th:only-of-type {\n",
              "        vertical-align: middle;\n",
              "    }\n",
              "\n",
              "    .dataframe tbody tr th {\n",
              "        vertical-align: top;\n",
              "    }\n",
              "\n",
              "    .dataframe thead th {\n",
              "        text-align: right;\n",
              "    }\n",
              "</style>\n",
              "<table border=\"1\" class=\"dataframe\">\n",
              "  <thead>\n",
              "    <tr style=\"text-align: right;\">\n",
              "      <th></th>\n",
              "      <th>customer_id</th>\n",
              "      <th>transaction_id</th>\n",
              "    </tr>\n",
              "  </thead>\n",
              "  <tbody>\n",
              "    <tr>\n",
              "      <th>count</th>\n",
              "      <td>412222.000000</td>\n",
              "      <td>412222.000000</td>\n",
              "    </tr>\n",
              "    <tr>\n",
              "      <th>mean</th>\n",
              "      <td>15318.451005</td>\n",
              "      <td>1.616462</td>\n",
              "    </tr>\n",
              "    <tr>\n",
              "      <th>std</th>\n",
              "      <td>1694.669146</td>\n",
              "      <td>1.787968</td>\n",
              "    </tr>\n",
              "    <tr>\n",
              "      <th>min</th>\n",
              "      <td>12346.000000</td>\n",
              "      <td>1.000000</td>\n",
              "    </tr>\n",
              "    <tr>\n",
              "      <th>25%</th>\n",
              "      <td>13891.000000</td>\n",
              "      <td>1.000000</td>\n",
              "    </tr>\n",
              "    <tr>\n",
              "      <th>50%</th>\n",
              "      <td>15296.000000</td>\n",
              "      <td>1.000000</td>\n",
              "    </tr>\n",
              "    <tr>\n",
              "      <th>75%</th>\n",
              "      <td>16791.000000</td>\n",
              "      <td>2.000000</td>\n",
              "    </tr>\n",
              "    <tr>\n",
              "      <th>max</th>\n",
              "      <td>18287.000000</td>\n",
              "      <td>120.000000</td>\n",
              "    </tr>\n",
              "  </tbody>\n",
              "</table>\n",
              "</div>"
            ],
            "text/plain": [
              "         customer_id  transaction_id\n",
              "count  412222.000000   412222.000000\n",
              "mean    15318.451005        1.616462\n",
              "std      1694.669146        1.787968\n",
              "min     12346.000000        1.000000\n",
              "25%     13891.000000        1.000000\n",
              "50%     15296.000000        1.000000\n",
              "75%     16791.000000        2.000000\n",
              "max     18287.000000      120.000000"
            ]
          },
          "metadata": {
            "tags": []
          },
          "execution_count": 4
        }
      ]
    },
    {
      "cell_type": "code",
      "metadata": {
        "colab": {
          "base_uri": "https://localhost:8080/",
          "height": 195
        },
        "id": "1wXLN9LtZaAg",
        "outputId": "157ee881-018b-4dfb-f9d0-5427284740fe"
      },
      "source": [
        "dataset.head()"
      ],
      "execution_count": 32,
      "outputs": [
        {
          "output_type": "execute_result",
          "data": {
            "text/html": [
              "<div>\n",
              "<style scoped>\n",
              "    .dataframe tbody tr th:only-of-type {\n",
              "        vertical-align: middle;\n",
              "    }\n",
              "\n",
              "    .dataframe tbody tr th {\n",
              "        vertical-align: top;\n",
              "    }\n",
              "\n",
              "    .dataframe thead th {\n",
              "        text-align: right;\n",
              "    }\n",
              "</style>\n",
              "<table border=\"1\" class=\"dataframe\">\n",
              "  <thead>\n",
              "    <tr style=\"text-align: right;\">\n",
              "      <th></th>\n",
              "      <th>customer_id</th>\n",
              "      <th>item_id</th>\n",
              "      <th>transaction_id</th>\n",
              "    </tr>\n",
              "  </thead>\n",
              "  <tbody>\n",
              "    <tr>\n",
              "      <th>0</th>\n",
              "      <td>12346.0</td>\n",
              "      <td>15056BL</td>\n",
              "      <td>1</td>\n",
              "    </tr>\n",
              "    <tr>\n",
              "      <th>1</th>\n",
              "      <td>12346.0</td>\n",
              "      <td>15056N</td>\n",
              "      <td>1</td>\n",
              "    </tr>\n",
              "    <tr>\n",
              "      <th>2</th>\n",
              "      <td>12346.0</td>\n",
              "      <td>15056P</td>\n",
              "      <td>1</td>\n",
              "    </tr>\n",
              "    <tr>\n",
              "      <th>3</th>\n",
              "      <td>12346.0</td>\n",
              "      <td>20679</td>\n",
              "      <td>1</td>\n",
              "    </tr>\n",
              "    <tr>\n",
              "      <th>4</th>\n",
              "      <td>12346.0</td>\n",
              "      <td>20682</td>\n",
              "      <td>1</td>\n",
              "    </tr>\n",
              "  </tbody>\n",
              "</table>\n",
              "</div>"
            ],
            "text/plain": [
              "   customer_id  item_id  transaction_id\n",
              "0      12346.0  15056BL               1\n",
              "1      12346.0   15056N               1\n",
              "2      12346.0   15056P               1\n",
              "3      12346.0    20679               1\n",
              "4      12346.0    20682               1"
            ]
          },
          "metadata": {
            "tags": []
          },
          "execution_count": 32
        }
      ]
    },
    {
      "cell_type": "markdown",
      "metadata": {
        "id": "rpx3pkfnVhpq"
      },
      "source": [
        "### Unique Counts"
      ]
    },
    {
      "cell_type": "code",
      "metadata": {
        "colab": {
          "base_uri": "https://localhost:8080/"
        },
        "id": "jHcR8WYXVlRw",
        "outputId": "92809ced-84aa-46dc-b7c0-5e0f2cc75a05"
      },
      "source": [
        "print('No. of Unique Users    :', dataset[\"customer_id\"].nunique())\n",
        "print('No. of Unique Business :', dataset[\"item_id\"].nunique())\n",
        "print('No. of Unique Ratings  :', dataset[\"transaction_id\"].nunique())"
      ],
      "execution_count": 13,
      "outputs": [
        {
          "output_type": "stream",
          "text": [
            "No. of Unique Users    : 5501\n",
            "No. of Unique Business : 4524\n",
            "No. of Unique Ratings  : 65\n"
          ],
          "name": "stdout"
        }
      ]
    },
    {
      "cell_type": "markdown",
      "metadata": {
        "id": "qc2Ju8MKV5ac"
      },
      "source": [
        "### Overall Count of Ratings given by Users"
      ]
    },
    {
      "cell_type": "code",
      "metadata": {
        "id": "QXG-v8yMV_8d"
      },
      "source": [
        "rating_gp = dataset.groupby(by=['transaction_id']).agg({'customer_id': 'count'}).reset_index()\n",
        "rating_gp.columns = ['Rating', 'Count']"
      ],
      "execution_count": 14,
      "outputs": []
    },
    {
      "cell_type": "code",
      "metadata": {
        "colab": {
          "base_uri": "https://localhost:8080/",
          "height": 520
        },
        "id": "eBFJ-9-JWRYM",
        "outputId": "cb795922-b388-45c7-d1e9-d1f2ed4cd4e4"
      },
      "source": [
        "plt.figure(figsize=(15,8))\n",
        "plt.barh(rating_gp.Rating, rating_gp.Count, color='royalblue')\n",
        "plt.title('Overall Count of Ratings', fontsize=15)\n",
        "plt.xlabel('Count', fontsize=15)\n",
        "plt.ylabel('Rating', fontsize=15)\n",
        "plt.grid(ls='dotted')\n",
        "plt.show()"
      ],
      "execution_count": 21,
      "outputs": [
        {
          "output_type": "display_data",
          "data": {
            "image/png": "[encoded data removed]",
            "text/plain": [
              "<Figure size 1080x576 with 1 Axes>"
            ]
          },
          "metadata": {
            "tags": [],
            "needs_background": "light"
          }
        }
      ]
    },
    {
      "cell_type": "markdown",
      "metadata": {
        "id": "wcGSi_8HXmPF"
      },
      "source": [
        "### There is one user item pair where number of transactions is 120 hence the long tail along Y axis. To identify a good enough limit for transactions we will try and find a suitable cut"
      ]
    },
    {
      "cell_type": "code",
      "metadata": {
        "colab": {
          "base_uri": "https://localhost:8080/",
          "height": 402
        },
        "id": "_xCkavI4Xk9u",
        "outputId": "7c9a69d0-1b95-4898-c75d-d7bf75cc9085"
      },
      "source": [
        "dataset[dataset[\"transaction_id\"]>8]"
      ],
      "execution_count": 29,
      "outputs": [
        {
          "output_type": "execute_result",
          "data": {
            "text/html": [
              "<div>\n",
              "<style scoped>\n",
              "    .dataframe tbody tr th:only-of-type {\n",
              "        vertical-align: middle;\n",
              "    }\n",
              "\n",
              "    .dataframe tbody tr th {\n",
              "        vertical-align: top;\n",
              "    }\n",
              "\n",
              "    .dataframe thead th {\n",
              "        text-align: right;\n",
              "    }\n",
              "</style>\n",
              "<table border=\"1\" class=\"dataframe\">\n",
              "  <thead>\n",
              "    <tr style=\"text-align: right;\">\n",
              "      <th></th>\n",
              "      <th>customer_id</th>\n",
              "      <th>item_id</th>\n",
              "      <th>transaction_id</th>\n",
              "    </tr>\n",
              "  </thead>\n",
              "  <tbody>\n",
              "    <tr>\n",
              "      <th>27</th>\n",
              "      <td>12346.0</td>\n",
              "      <td>M</td>\n",
              "      <td>9</td>\n",
              "    </tr>\n",
              "    <tr>\n",
              "      <th>28</th>\n",
              "      <td>12346.0</td>\n",
              "      <td>TEST001</td>\n",
              "      <td>9</td>\n",
              "    </tr>\n",
              "    <tr>\n",
              "      <th>3230</th>\n",
              "      <td>12395.0</td>\n",
              "      <td>POST</td>\n",
              "      <td>11</td>\n",
              "    </tr>\n",
              "    <tr>\n",
              "      <th>4847</th>\n",
              "      <td>12417.0</td>\n",
              "      <td>POST</td>\n",
              "      <td>17</td>\n",
              "    </tr>\n",
              "    <tr>\n",
              "      <th>5136</th>\n",
              "      <td>12422.0</td>\n",
              "      <td>POST</td>\n",
              "      <td>10</td>\n",
              "    </tr>\n",
              "    <tr>\n",
              "      <th>...</th>\n",
              "      <td>...</td>\n",
              "      <td>...</td>\n",
              "      <td>...</td>\n",
              "    </tr>\n",
              "    <tr>\n",
              "      <th>411746</th>\n",
              "      <td>18283.0</td>\n",
              "      <td>20726</td>\n",
              "      <td>9</td>\n",
              "    </tr>\n",
              "    <tr>\n",
              "      <th>411747</th>\n",
              "      <td>18283.0</td>\n",
              "      <td>20727</td>\n",
              "      <td>10</td>\n",
              "    </tr>\n",
              "    <tr>\n",
              "      <th>411823</th>\n",
              "      <td>18283.0</td>\n",
              "      <td>21931</td>\n",
              "      <td>9</td>\n",
              "    </tr>\n",
              "    <tr>\n",
              "      <th>411867</th>\n",
              "      <td>18283.0</td>\n",
              "      <td>22383</td>\n",
              "      <td>9</td>\n",
              "    </tr>\n",
              "    <tr>\n",
              "      <th>411870</th>\n",
              "      <td>18283.0</td>\n",
              "      <td>22386</td>\n",
              "      <td>10</td>\n",
              "    </tr>\n",
              "  </tbody>\n",
              "</table>\n",
              "<p>4366 rows × 3 columns</p>\n",
              "</div>"
            ],
            "text/plain": [
              "        customer_id  item_id  transaction_id\n",
              "27          12346.0        M               9\n",
              "28          12346.0  TEST001               9\n",
              "3230        12395.0     POST              11\n",
              "4847        12417.0     POST              17\n",
              "5136        12422.0     POST              10\n",
              "...             ...      ...             ...\n",
              "411746      18283.0    20726               9\n",
              "411747      18283.0    20727              10\n",
              "411823      18283.0    21931               9\n",
              "411867      18283.0    22383               9\n",
              "411870      18283.0    22386              10\n",
              "\n",
              "[4366 rows x 3 columns]"
            ]
          },
          "metadata": {
            "tags": []
          },
          "execution_count": 29
        }
      ]
    },
    {
      "cell_type": "code",
      "metadata": {
        "colab": {
          "base_uri": "https://localhost:8080/"
        },
        "id": "2dBisie8YKus",
        "outputId": "e7555e6d-1875-4295-af8d-328d2eb6ec5d"
      },
      "source": [
        "4366/41222*100"
      ],
      "execution_count": 30,
      "outputs": [
        {
          "output_type": "execute_result",
          "data": {
            "text/plain": [
              "10.591431759739944"
            ]
          },
          "metadata": {
            "tags": []
          },
          "execution_count": 30
        }
      ]
    },
    {
      "cell_type": "markdown",
      "metadata": {
        "id": "7cuYSzcfYYjd"
      },
      "source": [
        "#### We will rescale about 10.6% of user-item interactions and limit the maximum rating to 8"
      ]
    },
    {
      "cell_type": "code",
      "metadata": {
        "colab": {
          "base_uri": "https://localhost:8080/",
          "height": 520
        },
        "id": "DuDKI0JMWyg_",
        "outputId": "02c52336-7648-49c8-eeb4-2ea8e7f8f6db"
      },
      "source": [
        "plt.figure(figsize=(15,8))\n",
        "plt.barh(rating_gp.Rating, rating_gp.Count, color='royalblue')\n",
        "plt.title('Overall Count of Ratings', fontsize=15)\n",
        "plt.xlabel('Count', fontsize=15)\n",
        "plt.ylabel('Rating', fontsize=15)\n",
        "plt.grid(ls='dotted')\n",
        "plt.ylim([1, 20])\n",
        "plt.show()"
      ],
      "execution_count": 31,
      "outputs": [
        {
          "output_type": "display_data",
          "data": {
            "image/png": "[encoded data removed]",
            "text/plain": [
              "<Figure size 1080x576 with 1 Axes>"
            ]
          },
          "metadata": {
            "tags": [],
            "needs_background": "light"
          }
        }
      ]
    },
    {
      "cell_type": "code",
      "metadata": {
        "colab": {
          "base_uri": "https://localhost:8080/",
          "height": 195
        },
        "id": "LpGfLr4SUX8Z",
        "outputId": "eae245f0-265b-4ef6-c23b-ec7f93145379"
      },
      "source": [
        "maxVal = 8\n",
        "dataset[\"scaled_ratings\"]=dataset[\"transaction_id\"]\n",
        "dataset[\"scaled_ratings\"]=dataset['scaled_ratings'].where(dataset['scaled_ratings'] <= maxVal, maxVal)\n",
        "dataset.head()"
      ],
      "execution_count": 37,
      "outputs": [
        {
          "output_type": "execute_result",
          "data": {
            "text/html": [
              "<div>\n",
              "<style scoped>\n",
              "    .dataframe tbody tr th:only-of-type {\n",
              "        vertical-align: middle;\n",
              "    }\n",
              "\n",
              "    .dataframe tbody tr th {\n",
              "        vertical-align: top;\n",
              "    }\n",
              "\n",
              "    .dataframe thead th {\n",
              "        text-align: right;\n",
              "    }\n",
              "</style>\n",
              "<table border=\"1\" class=\"dataframe\">\n",
              "  <thead>\n",
              "    <tr style=\"text-align: right;\">\n",
              "      <th></th>\n",
              "      <th>customer_id</th>\n",
              "      <th>item_id</th>\n",
              "      <th>transaction_id</th>\n",
              "      <th>a</th>\n",
              "      <th>scaled_ratings</th>\n",
              "    </tr>\n",
              "  </thead>\n",
              "  <tbody>\n",
              "    <tr>\n",
              "      <th>0</th>\n",
              "      <td>12346.0</td>\n",
              "      <td>15056BL</td>\n",
              "      <td>1</td>\n",
              "      <td>1</td>\n",
              "      <td>1</td>\n",
              "    </tr>\n",
              "    <tr>\n",
              "      <th>1</th>\n",
              "      <td>12346.0</td>\n",
              "      <td>15056N</td>\n",
              "      <td>1</td>\n",
              "      <td>1</td>\n",
              "      <td>1</td>\n",
              "    </tr>\n",
              "    <tr>\n",
              "      <th>2</th>\n",
              "      <td>12346.0</td>\n",
              "      <td>15056P</td>\n",
              "      <td>1</td>\n",
              "      <td>1</td>\n",
              "      <td>1</td>\n",
              "    </tr>\n",
              "    <tr>\n",
              "      <th>3</th>\n",
              "      <td>12346.0</td>\n",
              "      <td>20679</td>\n",
              "      <td>1</td>\n",
              "      <td>1</td>\n",
              "      <td>1</td>\n",
              "    </tr>\n",
              "    <tr>\n",
              "      <th>4</th>\n",
              "      <td>12346.0</td>\n",
              "      <td>20682</td>\n",
              "      <td>1</td>\n",
              "      <td>1</td>\n",
              "      <td>1</td>\n",
              "    </tr>\n",
              "  </tbody>\n",
              "</table>\n",
              "</div>"
            ],
            "text/plain": [
              "   customer_id  item_id  transaction_id  a  scaled_ratings\n",
              "0      12346.0  15056BL               1  1               1\n",
              "1      12346.0   15056N               1  1               1\n",
              "2      12346.0   15056P               1  1               1\n",
              "3      12346.0    20679               1  1               1\n",
              "4      12346.0    20682               1  1               1"
            ]
          },
          "metadata": {
            "tags": []
          },
          "execution_count": 37
        }
      ]
    },
    {
      "cell_type": "markdown",
      "metadata": {
        "id": "WEtxENTbfOXF"
      },
      "source": [
        "#### Saving our ratings to a csv file"
      ]
    },
    {
      "cell_type": "code",
      "metadata": {
        "id": "QyYIZuuaeV4d"
      },
      "source": [
        "dataset=dataset[[\"customer_id\",\"item_id\",\"scaled_ratings\"]]\n",
        "dataset.to_csv(\"ratings.csv\",index=False)"
      ],
      "execution_count": 40,
      "outputs": []
    },
    {
      "cell_type": "markdown",
      "metadata": {
        "id": "adErtMysfYBo"
      },
      "source": [
        "### Lets move on to building a recommender system now"
      ]
    },
    {
      "cell_type": "markdown",
      "metadata": {
        "id": "eqKSIDIyfehF"
      },
      "source": [
        "### Memory based Recommender System"
      ]
    },
    {
      "cell_type": "markdown",
      "metadata": {
        "id": "41F2rjIafjGF"
      },
      "source": [
        "#### Choosing between user-user vs item-item matrix"
      ]
    },
    {
      "cell_type": "code",
      "metadata": {
        "colab": {
          "base_uri": "https://localhost:8080/"
        },
        "id": "E2lZEGztwx9w",
        "outputId": "a718c23a-7848-4aa1-a1c4-52e80f5ffb80"
      },
      "source": [
        "print(dataset[\"customer_id\"].nunique())\n",
        "print(dataset[\"item_id\"].nunique())"
      ],
      "execution_count": 42,
      "outputs": [
        {
          "output_type": "stream",
          "text": [
            "5501\n",
            "4524\n"
          ],
          "name": "stdout"
        }
      ]
    },
    {
      "cell_type": "markdown",
      "metadata": {
        "id": "bzj6LvSffu2_"
      },
      "source": [
        "#### As the order of unique values is same 10^3 there isnt much to choose between, if one of these was a order of magnitude lower than the other we would have chosen that to account for sparse representation."
      ]
    },
    {
      "cell_type": "code",
      "metadata": {
        "id": "UHoX2M_clJAS"
      },
      "source": [
        "reader = Reader(line_format='user item rating', sep=',',skip_lines=1,rating_scale=(1, 8))\n",
        "data = Dataset.load_from_file(\"ratings.csv\", reader=reader)"
      ],
      "execution_count": 43,
      "outputs": []
    },
    {
      "cell_type": "code",
      "metadata": {
        "colab": {
          "base_uri": "https://localhost:8080/"
        },
        "id": "vI6M8lrdhKL7",
        "outputId": "1c20e8f9-9822-4bf3-8ffd-952b5f199145"
      },
      "source": [
        "knnbasic_cv = cross_validate(KNNBasic(), data, cv=5, n_jobs=-2, verbose=False)\n",
        "knnmeans_cv = cross_validate(KNNWithMeans(), data, cv=5, n_jobs=-2, verbose=False)\n",
        "knnz_cv = cross_validate(KNNWithZScore(), data, cv=5, n_jobs=-2, verbose=False)"
      ],
      "execution_count": 45,
      "outputs": [
        {
          "output_type": "stream",
          "text": [
            "Computing the msd similarity matrix...\n",
            "Done computing similarity matrix.\n",
            "Computing the msd similarity matrix...\n",
            "Done computing similarity matrix.\n",
            "Computing the msd similarity matrix...\n",
            "Done computing similarity matrix.\n",
            "Computing the msd similarity matrix...\n",
            "Done computing similarity matrix.\n",
            "Computing the msd similarity matrix...\n",
            "Done computing similarity matrix.\n",
            "Computing the msd similarity matrix...\n",
            "Done computing similarity matrix.\n",
            "Computing the msd similarity matrix...\n",
            "Done computing similarity matrix.\n",
            "Computing the msd similarity matrix...\n",
            "Done computing similarity matrix.\n",
            "Computing the msd similarity matrix...\n",
            "Done computing similarity matrix.\n",
            "Computing the msd similarity matrix...\n",
            "Done computing similarity matrix.\n",
            "Computing the msd similarity matrix...\n",
            "Done computing similarity matrix.\n",
            "Computing the msd similarity matrix...\n",
            "Done computing similarity matrix.\n",
            "Computing the msd similarity matrix...\n",
            "Done computing similarity matrix.\n",
            "Computing the msd similarity matrix...\n",
            "Done computing similarity matrix.\n",
            "Computing the msd similarity matrix...\n",
            "Done computing similarity matrix.\n"
          ],
          "name": "stdout"
        }
      ]
    },
    {
      "cell_type": "markdown",
      "metadata": {
        "id": "1z2OGl3WhpHI"
      },
      "source": [
        "### MF Based Recommender Systems"
      ]
    },
    {
      "cell_type": "code",
      "metadata": {
        "id": "ymeAvDgmht2k"
      },
      "source": [
        "svd_cv = cross_validate(SVD(), data, cv=5, n_jobs=-2, verbose=False)\n",
        "# svdpp_cv = cross_validate(SVDpp(), data, cv=5, n_jobs=-2, verbose=False)  ....Was taking too long need to investigate why\n",
        "nmf_cv = cross_validate(NMF(), data, cv=5, n_jobs=-2, verbose=False)"
      ],
      "execution_count": 47,
      "outputs": []
    },
    {
      "cell_type": "markdown",
      "metadata": {
        "id": "ZNx7mRxlh2w9"
      },
      "source": [
        "### Other CF Recommender Systems"
      ]
    },
    {
      "cell_type": "code",
      "metadata": {
        "id": "JUxPvsghiB1V"
      },
      "source": [
        "slope_cv = cross_validate(SlopeOne(), data, cv=5, n_jobs=-2, verbose=False)\n",
        "coclus_cv = cross_validate(CoClustering(), data, cv=5, n_jobs=-2, verbose=False)"
      ],
      "execution_count": 48,
      "outputs": []
    },
    {
      "cell_type": "markdown",
      "metadata": {
        "id": "SOPxnxWpiLHe"
      },
      "source": [
        "### Results"
      ]
    },
    {
      "cell_type": "code",
      "metadata": {
        "colab": {
          "base_uri": "https://localhost:8080/"
        },
        "id": "H12ypgBeiNgQ",
        "outputId": "2a19252a-be9b-425e-e789-af06b21e5997"
      },
      "source": [
        "print('Algorithm\\t RMSE\\t\\t MAE')\n",
        "print()\n",
        "print('KNN Basic', '\\t', round(knnbasic_cv['test_rmse'].mean(), 4), '\\t', round(knnbasic_cv['test_mae'].mean(), 4))\n",
        "print('KNN Means', '\\t', round(knnmeans_cv['test_rmse'].mean(), 4), '\\t', round(knnmeans_cv['test_mae'].mean(), 4))\n",
        "print('KNN ZScore', '\\t', round(knnz_cv['test_rmse'].mean(), 4), '\\t', round(knnz_cv['test_mae'].mean(), 4))\n",
        "print()\n",
        "print('SVD', '\\t\\t', round(svd_cv['test_rmse'].mean(), 4), '\\t', round(svd_cv['test_mae'].mean(), 4))\n",
        "#print('SVDpp', '\\t\\t', round(svdpp_cv['test_rmse'].mean(), 4), '\\t', round(svdpp_cv['test_mae'].mean(), 4))\n",
        "print('NMF', '\\t\\t', round(nmf_cv['test_rmse'].mean(), 4), '\\t', round(nmf_cv['test_mae'].mean(), 4))\n",
        "print()\n",
        "print('SlopeOne', '\\t', round(slope_cv['test_rmse'].mean(), 4), '\\t', round(slope_cv['test_mae'].mean(), 4))\n",
        "print('CoClustering', '\\t', round(coclus_cv['test_rmse'].mean(), 4), '\\t', round(coclus_cv['test_mae'].mean(), 4))\n",
        "print()"
      ],
      "execution_count": 49,
      "outputs": [
        {
          "output_type": "stream",
          "text": [
            "Algorithm\t RMSE\t\t MAE\n",
            "\n",
            "KNN Basic \t 1.2197 \t 0.6181\n",
            "KNN Means \t 1.0766 \t 0.6313\n",
            "KNN ZScore \t 1.0666 \t 0.6243\n",
            "\n",
            "SVD \t\t 0.9999 \t 0.5962\n",
            "NMF \t\t 1.0157 \t 0.5811\n",
            "\n",
            "SlopeOne \t 1.083 \t 0.6719\n",
            "CoClustering \t 1.0439 \t 0.6198\n",
            "\n"
          ],
          "name": "stdout"
        }
      ]
    },
    {
      "cell_type": "code",
      "metadata": {
        "colab": {
          "base_uri": "https://localhost:8080/",
          "height": 336
        },
        "id": "75HrHARSiYOh",
        "outputId": "8345d9c7-72f6-4519-b252-ab3aba90ae35"
      },
      "source": [
        "x_algo = ['KNN Basic', 'KNN Means', 'KNN ZScore', 'SVD',  'NMF', 'SlopeOne', 'CoClustering']  #Removed 'SVDpp'\n",
        "all_algos_cv = [knnbasic_cv, knnmeans_cv, knnz_cv, svd_cv,  nmf_cv, slope_cv, coclus_cv] #Removed svdpp_cv,\n",
        "\n",
        "rmse_cv = [round(res['test_rmse'].mean(), 4) for res in all_algos_cv]\n",
        "mae_cv = [round(res['test_mae'].mean(), 4) for res in all_algos_cv]\n",
        "\n",
        "plt.figure(figsize=(20,5))\n",
        "\n",
        "plt.subplot(1, 2, 1)\n",
        "plt.title('Comparison of Algorithms on RMSE', loc='center', fontsize=15)\n",
        "plt.plot(x_algo, rmse_cv, label='RMSE', color='darkgreen', marker='o')\n",
        "plt.xlabel('Algorithms', fontsize=15)\n",
        "plt.ylabel('RMSE Value', fontsize=15)\n",
        "plt.legend()\n",
        "plt.grid(ls='dashed')\n",
        "\n",
        "plt.subplot(1, 2, 2)\n",
        "plt.title('Comparison of Algorithms on MAE', loc='center', fontsize=15)\n",
        "plt.plot(x_algo, mae_cv, label='MAE', color='navy', marker='o')\n",
        "plt.xlabel('Algorithms', fontsize=15)\n",
        "plt.ylabel('MAE Value', fontsize=15)\n",
        "plt.legend()\n",
        "plt.grid(ls='dashed')\n",
        "\n",
        "plt.show()"
      ],
      "execution_count": 50,
      "outputs": [
        {
          "output_type": "display_data",
          "data": {
            "image/png": "[encoded data removed]",
            "text/plain": [
              "<Figure size 1440x360 with 2 Axes>"
            ]
          },
          "metadata": {
            "tags": [],
            "needs_background": "light"
          }
        }
      ]
    },
    {
      "cell_type": "markdown",
      "metadata": {
        "id": "3aIb79CyqSob"
      },
      "source": [
        "### Best model basis RMSE is SVD, NMF being second. Likewise considering MAE NMF is the best model followed by SVD"
      ]
    },
    {
      "cell_type": "markdown",
      "metadata": {
        "id": "jdkAAXEtqrvh"
      },
      "source": [
        "##### Gridsearch for SVD"
      ]
    },
    {
      "cell_type": "code",
      "metadata": {
        "id": "Crg93U2ru7Ml"
      },
      "source": [
        "# Parameter space\n",
        "svd_param_grid = {'n_epochs': [20, 25], ### 'n_factors':[5, 10,20]  Search for number of Latent factors\n",
        "                  'lr_all': [0.007, 0.009, 0.01],\n",
        "                  'reg_all': [0.4, 0.6]}\n",
        "\n",
        "svd_gs = GridSearchCV(SVD, svd_param_grid, measures=['rmse', 'mae'], cv=5, n_jobs=5)\n",
        "svd_gs.fit(data)"
      ],
      "execution_count": 51,
      "outputs": []
    },
    {
      "cell_type": "code",
      "metadata": {
        "id": "KwZynvEFu7Ko",
        "colab": {
          "base_uri": "https://localhost:8080/"
        },
        "outputId": "0ef6d23f-8850-4cf0-f73b-b4b0698b8bbf"
      },
      "source": [
        "print('SVD   - RMSE:', round(svd_gs.best_score['rmse'], 4), '; MAE:', round(svd_gs.best_score['mae'], 4))"
      ],
      "execution_count": 52,
      "outputs": [
        {
          "output_type": "stream",
          "text": [
            "SVD   - RMSE: 1.0937 ; MAE: 0.6437\n"
          ],
          "name": "stdout"
        }
      ]
    },
    {
      "cell_type": "code",
      "metadata": {
        "id": "nDUrqD2pu7Id",
        "colab": {
          "base_uri": "https://localhost:8080/"
        },
        "outputId": "3bd0f454-8f86-4da4-a8cf-10f218937012"
      },
      "source": [
        "print('RMSE =', svd_gs.best_params['rmse'])\n",
        "print('MAE =', svd_gs.best_params['mae'])"
      ],
      "execution_count": 53,
      "outputs": [
        {
          "output_type": "stream",
          "text": [
            "RMSE = {'n_epochs': 25, 'lr_all': 0.007, 'reg_all': 0.4}\n",
            "MAE = {'n_epochs': 25, 'lr_all': 0.01, 'reg_all': 0.4}\n"
          ],
          "name": "stdout"
        }
      ]
    },
    {
      "cell_type": "markdown",
      "metadata": {
        "id": "EQrFwTW3xLbg"
      },
      "source": [
        "##### Retrain model with entire train dataset and identified parameters"
      ]
    },
    {
      "cell_type": "code",
      "metadata": {
        "id": "3E9mB4RrwfrB"
      },
      "source": [
        "algo = svd_gs.best_estimator['rmse']"
      ],
      "execution_count": 58,
      "outputs": []
    },
    {
      "cell_type": "code",
      "metadata": {
        "colab": {
          "base_uri": "https://localhost:8080/"
        },
        "id": "xC4agLRIwfng",
        "outputId": "b42595ef-fa57-46f9-8490-607c5350dcb2"
      },
      "source": [
        "algo.fit(data.build_full_trainset())"
      ],
      "execution_count": 59,
      "outputs": [
        {
          "output_type": "execute_result",
          "data": {
            "text/plain": [
              "<surprise.prediction_algorithms.matrix_factorization.SVD at 0x7f1ba61569d0>"
            ]
          },
          "metadata": {
            "tags": []
          },
          "execution_count": 59
        }
      ]
    },
    {
      "cell_type": "markdown",
      "metadata": {
        "id": "QGs-7CRhscwB"
      },
      "source": [
        "#### Submission"
      ]
    },
    {
      "cell_type": "code",
      "metadata": {
        "id": "2deeJAaku7Gu",
        "colab": {
          "base_uri": "https://localhost:8080/",
          "height": 215
        },
        "outputId": "db1ed126-3d96-4955-c8a0-81010377714a"
      },
      "source": [
        "submission=pd.read_csv(\"submission.csv\")\n",
        "submission.head()"
      ],
      "execution_count": 54,
      "outputs": [
        {
          "output_type": "execute_result",
          "data": {
            "text/html": [
              "<div>\n",
              "<style scoped>\n",
              "    .dataframe tbody tr th:only-of-type {\n",
              "        vertical-align: middle;\n",
              "    }\n",
              "\n",
              "    .dataframe tbody tr th {\n",
              "        vertical-align: top;\n",
              "    }\n",
              "\n",
              "    .dataframe thead th {\n",
              "        text-align: right;\n",
              "    }\n",
              "</style>\n",
              "<table border=\"1\" class=\"dataframe\">\n",
              "  <thead>\n",
              "    <tr style=\"text-align: right;\">\n",
              "      <th></th>\n",
              "      <th>customer_id</th>\n",
              "      <th>Target_20724</th>\n",
              "      <th>Target_20725</th>\n",
              "      <th>Target_20726</th>\n",
              "      <th>Target_20727</th>\n",
              "      <th>Target_20728</th>\n",
              "      <th>Target_20914</th>\n",
              "      <th>Target_21080</th>\n",
              "      <th>Target_21212</th>\n",
              "      <th>Target_21232</th>\n",
              "      <th>Target_21754</th>\n",
              "      <th>Target_21790</th>\n",
              "      <th>Target_21931</th>\n",
              "      <th>Target_21977</th>\n",
              "      <th>Target_22178</th>\n",
              "      <th>Target_22197</th>\n",
              "      <th>Target_22355</th>\n",
              "      <th>Target_84879</th>\n",
              "      <th>Target_84991</th>\n",
              "      <th>Target_85099B</th>\n",
              "      <th>Target_85099C</th>\n",
              "      <th>Target_85123A</th>\n",
              "    </tr>\n",
              "  </thead>\n",
              "  <tbody>\n",
              "    <tr>\n",
              "      <th>0</th>\n",
              "      <td>12347</td>\n",
              "      <td>0</td>\n",
              "      <td>0</td>\n",
              "      <td>0</td>\n",
              "      <td>0</td>\n",
              "      <td>0</td>\n",
              "      <td>0</td>\n",
              "      <td>0</td>\n",
              "      <td>0</td>\n",
              "      <td>0</td>\n",
              "      <td>0</td>\n",
              "      <td>0</td>\n",
              "      <td>0</td>\n",
              "      <td>0</td>\n",
              "      <td>0</td>\n",
              "      <td>0</td>\n",
              "      <td>0</td>\n",
              "      <td>0</td>\n",
              "      <td>0</td>\n",
              "      <td>0</td>\n",
              "      <td>0</td>\n",
              "      <td>0</td>\n",
              "    </tr>\n",
              "    <tr>\n",
              "      <th>1</th>\n",
              "      <td>12349</td>\n",
              "      <td>0</td>\n",
              "      <td>0</td>\n",
              "      <td>0</td>\n",
              "      <td>0</td>\n",
              "      <td>0</td>\n",
              "      <td>0</td>\n",
              "      <td>0</td>\n",
              "      <td>0</td>\n",
              "      <td>0</td>\n",
              "      <td>0</td>\n",
              "      <td>0</td>\n",
              "      <td>0</td>\n",
              "      <td>0</td>\n",
              "      <td>0</td>\n",
              "      <td>0</td>\n",
              "      <td>0</td>\n",
              "      <td>0</td>\n",
              "      <td>0</td>\n",
              "      <td>0</td>\n",
              "      <td>0</td>\n",
              "      <td>0</td>\n",
              "    </tr>\n",
              "    <tr>\n",
              "      <th>2</th>\n",
              "      <td>12352</td>\n",
              "      <td>0</td>\n",
              "      <td>0</td>\n",
              "      <td>0</td>\n",
              "      <td>0</td>\n",
              "      <td>0</td>\n",
              "      <td>0</td>\n",
              "      <td>0</td>\n",
              "      <td>0</td>\n",
              "      <td>0</td>\n",
              "      <td>0</td>\n",
              "      <td>0</td>\n",
              "      <td>0</td>\n",
              "      <td>0</td>\n",
              "      <td>0</td>\n",
              "      <td>0</td>\n",
              "      <td>0</td>\n",
              "      <td>0</td>\n",
              "      <td>0</td>\n",
              "      <td>0</td>\n",
              "      <td>0</td>\n",
              "      <td>0</td>\n",
              "    </tr>\n",
              "    <tr>\n",
              "      <th>3</th>\n",
              "      <td>12357</td>\n",
              "      <td>0</td>\n",
              "      <td>0</td>\n",
              "      <td>0</td>\n",
              "      <td>0</td>\n",
              "      <td>0</td>\n",
              "      <td>0</td>\n",
              "      <td>0</td>\n",
              "      <td>0</td>\n",
              "      <td>0</td>\n",
              "      <td>0</td>\n",
              "      <td>0</td>\n",
              "      <td>0</td>\n",
              "      <td>0</td>\n",
              "      <td>0</td>\n",
              "      <td>0</td>\n",
              "      <td>0</td>\n",
              "      <td>0</td>\n",
              "      <td>0</td>\n",
              "      <td>0</td>\n",
              "      <td>0</td>\n",
              "      <td>0</td>\n",
              "    </tr>\n",
              "    <tr>\n",
              "      <th>4</th>\n",
              "      <td>12359</td>\n",
              "      <td>0</td>\n",
              "      <td>0</td>\n",
              "      <td>0</td>\n",
              "      <td>0</td>\n",
              "      <td>0</td>\n",
              "      <td>0</td>\n",
              "      <td>0</td>\n",
              "      <td>0</td>\n",
              "      <td>0</td>\n",
              "      <td>0</td>\n",
              "      <td>0</td>\n",
              "      <td>0</td>\n",
              "      <td>0</td>\n",
              "      <td>0</td>\n",
              "      <td>0</td>\n",
              "      <td>0</td>\n",
              "      <td>0</td>\n",
              "      <td>0</td>\n",
              "      <td>0</td>\n",
              "      <td>0</td>\n",
              "      <td>0</td>\n",
              "    </tr>\n",
              "  </tbody>\n",
              "</table>\n",
              "</div>"
            ],
            "text/plain": [
              "   customer_id  Target_20724  ...  Target_85099C  Target_85123A\n",
              "0        12347             0  ...              0              0\n",
              "1        12349             0  ...              0              0\n",
              "2        12352             0  ...              0              0\n",
              "3        12357             0  ...              0              0\n",
              "4        12359             0  ...              0              0\n",
              "\n",
              "[5 rows x 22 columns]"
            ]
          },
          "metadata": {
            "tags": []
          },
          "execution_count": 54
        }
      ]
    },
    {
      "cell_type": "code",
      "metadata": {
        "id": "FnQBxAnju7EN",
        "colab": {
          "base_uri": "https://localhost:8080/"
        },
        "outputId": "a2e8360b-1c48-43ba-cb4c-87cd2c2a2b2f"
      },
      "source": [
        "items=submission.columns\n",
        "items=items[1:]\n",
        "items"
      ],
      "execution_count": 57,
      "outputs": [
        {
          "output_type": "execute_result",
          "data": {
            "text/plain": [
              "Index(['Target_20724', 'Target_20725', 'Target_20726', 'Target_20727',\n",
              "       'Target_20728', 'Target_20914', 'Target_21080', 'Target_21212',\n",
              "       'Target_21232', 'Target_21754', 'Target_21790', 'Target_21931',\n",
              "       'Target_21977', 'Target_22178', 'Target_22197', 'Target_22355',\n",
              "       'Target_84879', 'Target_84991', 'Target_85099B', 'Target_85099C',\n",
              "       'Target_85123A'],\n",
              "      dtype='object')"
            ]
          },
          "metadata": {
            "tags": []
          },
          "execution_count": 57
        }
      ]
    },
    {
      "cell_type": "code",
      "metadata": {
        "id": "CRSuJerLu7BO",
        "colab": {
          "base_uri": "https://localhost:8080/"
        },
        "outputId": "da39ee70-6be1-4927-b4b8-834ce8450a49"
      },
      "source": [
        "users=submission.customer_id.unique()\n",
        "users[:10]"
      ],
      "execution_count": 56,
      "outputs": [
        {
          "output_type": "execute_result",
          "data": {
            "text/plain": [
              "array([12347, 12349, 12352, 12357, 12359, 12362, 12364, 12370, 12371,\n",
              "       12375])"
            ]
          },
          "metadata": {
            "tags": []
          },
          "execution_count": 56
        }
      ]
    },
    {
      "cell_type": "code",
      "metadata": {
        "id": "WtVDhhPFu6-1",
        "colab": {
          "base_uri": "https://localhost:8080/"
        },
        "outputId": "3b34c78f-0f7a-4ab5-8338-533452dcfa90"
      },
      "source": [
        "algo.predict(uid = '12347', iid = 'Target_20724')"
      ],
      "execution_count": 60,
      "outputs": [
        {
          "output_type": "execute_result",
          "data": {
            "text/plain": [
              "Prediction(uid='12347', iid='Target_20724', r_ui=None, est=1.5572676858585908, details={'was_impossible': False})"
            ]
          },
          "metadata": {
            "tags": []
          },
          "execution_count": 60
        }
      ]
    },
    {
      "cell_type": "code",
      "metadata": {
        "id": "uNHWKyNDu68I",
        "colab": {
          "base_uri": "https://localhost:8080/",
          "height": 47
        },
        "outputId": "400ed5d3-b6c4-488c-f95b-59abadfe8f6e"
      },
      "source": [
        "col_names =  ['customer_id', 'item_id', 'rating']\n",
        "preds=pd.DataFrame(columns = col_names)\n",
        "preds"
      ],
      "execution_count": 66,
      "outputs": [
        {
          "output_type": "execute_result",
          "data": {
            "text/html": [
              "<div>\n",
              "<style scoped>\n",
              "    .dataframe tbody tr th:only-of-type {\n",
              "        vertical-align: middle;\n",
              "    }\n",
              "\n",
              "    .dataframe tbody tr th {\n",
              "        vertical-align: top;\n",
              "    }\n",
              "\n",
              "    .dataframe thead th {\n",
              "        text-align: right;\n",
              "    }\n",
              "</style>\n",
              "<table border=\"1\" class=\"dataframe\">\n",
              "  <thead>\n",
              "    <tr style=\"text-align: right;\">\n",
              "      <th></th>\n",
              "      <th>customer_id</th>\n",
              "      <th>item_id</th>\n",
              "      <th>rating</th>\n",
              "    </tr>\n",
              "  </thead>\n",
              "  <tbody>\n",
              "  </tbody>\n",
              "</table>\n",
              "</div>"
            ],
            "text/plain": [
              "Empty DataFrame\n",
              "Columns: [customer_id, item_id, rating]\n",
              "Index: []"
            ]
          },
          "metadata": {
            "tags": []
          },
          "execution_count": 66
        }
      ]
    },
    {
      "cell_type": "code",
      "metadata": {
        "id": "2bnpU7CVu640"
      },
      "source": [
        "for user in users:\n",
        "  for item in items:\n",
        "    rating= algo.predict(uid = user, iid = item)\n",
        "    new_row = {'customer_id':user, 'item_id':item, 'rating':rating.est}\n",
        "    preds = preds.append(new_row, ignore_index=True)\n"
      ],
      "execution_count": 67,
      "outputs": []
    },
    {
      "cell_type": "code",
      "metadata": {
        "colab": {
          "base_uri": "https://localhost:8080/",
          "height": 195
        },
        "id": "onXJiSTn1-sw",
        "outputId": "f93642a8-2f67-4896-c675-426ab53abf39"
      },
      "source": [
        "preds.head()"
      ],
      "execution_count": 68,
      "outputs": [
        {
          "output_type": "execute_result",
          "data": {
            "text/html": [
              "<div>\n",
              "<style scoped>\n",
              "    .dataframe tbody tr th:only-of-type {\n",
              "        vertical-align: middle;\n",
              "    }\n",
              "\n",
              "    .dataframe tbody tr th {\n",
              "        vertical-align: top;\n",
              "    }\n",
              "\n",
              "    .dataframe thead th {\n",
              "        text-align: right;\n",
              "    }\n",
              "</style>\n",
              "<table border=\"1\" class=\"dataframe\">\n",
              "  <thead>\n",
              "    <tr style=\"text-align: right;\">\n",
              "      <th></th>\n",
              "      <th>customer_id</th>\n",
              "      <th>item_id</th>\n",
              "      <th>rating</th>\n",
              "    </tr>\n",
              "  </thead>\n",
              "  <tbody>\n",
              "    <tr>\n",
              "      <th>0</th>\n",
              "      <td>12347</td>\n",
              "      <td>Target_20724</td>\n",
              "      <td>1.557268</td>\n",
              "    </tr>\n",
              "    <tr>\n",
              "      <th>1</th>\n",
              "      <td>12347</td>\n",
              "      <td>Target_20725</td>\n",
              "      <td>1.557268</td>\n",
              "    </tr>\n",
              "    <tr>\n",
              "      <th>2</th>\n",
              "      <td>12347</td>\n",
              "      <td>Target_20726</td>\n",
              "      <td>1.557268</td>\n",
              "    </tr>\n",
              "    <tr>\n",
              "      <th>3</th>\n",
              "      <td>12347</td>\n",
              "      <td>Target_20727</td>\n",
              "      <td>1.557268</td>\n",
              "    </tr>\n",
              "    <tr>\n",
              "      <th>4</th>\n",
              "      <td>12347</td>\n",
              "      <td>Target_20728</td>\n",
              "      <td>1.557268</td>\n",
              "    </tr>\n",
              "  </tbody>\n",
              "</table>\n",
              "</div>"
            ],
            "text/plain": [
              "  customer_id       item_id    rating\n",
              "0       12347  Target_20724  1.557268\n",
              "1       12347  Target_20725  1.557268\n",
              "2       12347  Target_20726  1.557268\n",
              "3       12347  Target_20727  1.557268\n",
              "4       12347  Target_20728  1.557268"
            ]
          },
          "metadata": {
            "tags": []
          },
          "execution_count": 68
        }
      ]
    },
    {
      "cell_type": "code",
      "metadata": {
        "colab": {
          "base_uri": "https://localhost:8080/",
          "height": 195
        },
        "id": "70BJWJ_D2B_X",
        "outputId": "dea9a170-a81e-4d08-f750-5612b2fb4843"
      },
      "source": [
        "preds.tail()"
      ],
      "execution_count": 69,
      "outputs": [
        {
          "output_type": "execute_result",
          "data": {
            "text/html": [
              "<div>\n",
              "<style scoped>\n",
              "    .dataframe tbody tr th:only-of-type {\n",
              "        vertical-align: middle;\n",
              "    }\n",
              "\n",
              "    .dataframe tbody tr th {\n",
              "        vertical-align: top;\n",
              "    }\n",
              "\n",
              "    .dataframe thead th {\n",
              "        text-align: right;\n",
              "    }\n",
              "</style>\n",
              "<table border=\"1\" class=\"dataframe\">\n",
              "  <thead>\n",
              "    <tr style=\"text-align: right;\">\n",
              "      <th></th>\n",
              "      <th>customer_id</th>\n",
              "      <th>item_id</th>\n",
              "      <th>rating</th>\n",
              "    </tr>\n",
              "  </thead>\n",
              "  <tbody>\n",
              "    <tr>\n",
              "      <th>25657</th>\n",
              "      <td>18283</td>\n",
              "      <td>Target_84879</td>\n",
              "      <td>1.557268</td>\n",
              "    </tr>\n",
              "    <tr>\n",
              "      <th>25658</th>\n",
              "      <td>18283</td>\n",
              "      <td>Target_84991</td>\n",
              "      <td>1.557268</td>\n",
              "    </tr>\n",
              "    <tr>\n",
              "      <th>25659</th>\n",
              "      <td>18283</td>\n",
              "      <td>Target_85099B</td>\n",
              "      <td>1.557268</td>\n",
              "    </tr>\n",
              "    <tr>\n",
              "      <th>25660</th>\n",
              "      <td>18283</td>\n",
              "      <td>Target_85099C</td>\n",
              "      <td>1.557268</td>\n",
              "    </tr>\n",
              "    <tr>\n",
              "      <th>25661</th>\n",
              "      <td>18283</td>\n",
              "      <td>Target_85123A</td>\n",
              "      <td>1.557268</td>\n",
              "    </tr>\n",
              "  </tbody>\n",
              "</table>\n",
              "</div>"
            ],
            "text/plain": [
              "      customer_id        item_id    rating\n",
              "25657       18283   Target_84879  1.557268\n",
              "25658       18283   Target_84991  1.557268\n",
              "25659       18283  Target_85099B  1.557268\n",
              "25660       18283  Target_85099C  1.557268\n",
              "25661       18283  Target_85123A  1.557268"
            ]
          },
          "metadata": {
            "tags": []
          },
          "execution_count": 69
        }
      ]
    },
    {
      "cell_type": "code",
      "metadata": {
        "id": "ET7Cj7wau61R"
      },
      "source": [
        "preds.to_csv(\"predictions.csv\",index=False)"
      ],
      "execution_count": 70,
      "outputs": []
    },
    {
      "cell_type": "code",
      "metadata": {
        "id": "kYl27IpMejf0"
      },
      "source": [
        ""
      ],
      "execution_count": null,
      "outputs": []
    }
  ]
}